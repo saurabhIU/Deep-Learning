{
  "nbformat": 4,
  "nbformat_minor": 0,
  "metadata": {
    "colab": {
      "name": "Speech Denoising Using 1D CNN.ipynb",
      "version": "0.3.2",
      "provenance": [],
      "collapsed_sections": [],
      "toc_visible": true,
      "include_colab_link": true
    },
    "kernelspec": {
      "name": "python3",
      "display_name": "Python 3"
    }
  },
  "cells": [
    {
      "cell_type": "markdown",
      "metadata": {
        "id": "view-in-github",
        "colab_type": "text"
      },
      "source": [
        "<a href=\"https://colab.research.google.com/github/saurabhIU/Deep-Learning/blob/master/Speech_Denoising_Using_1D_CNN.ipynb\" target=\"_parent\"><img src=\"https://colab.research.google.com/assets/colab-badge.svg\" alt=\"Open In Colab\"/></a>"
      ]
    },
    {
      "metadata": {
        "id": "mwD3dRsUuNxq",
        "colab_type": "text"
      },
      "cell_type": "markdown",
      "source": [
        "## Data Preparation"
      ]
    },
    {
      "metadata": {
        "id": "-19JMYatuIoa",
        "colab_type": "code",
        "colab": {}
      },
      "cell_type": "code",
      "source": [
        "import librosa\n",
        "import librosa.display as disp\n",
        "import matplotlib.pyplot as plt\n",
        "import numpy as np\n",
        "import tensorflow as tf\n",
        "import time;"
      ],
      "execution_count": 0,
      "outputs": []
    },
    {
      "metadata": {
        "id": "Mv3psXwM6MbH",
        "colab_type": "text"
      },
      "cell_type": "markdown",
      "source": [
        "## Load Data (Training Clean and Training Noisy data)"
      ]
    },
    {
      "metadata": {
        "id": "HFHW2yiluIxW",
        "colab_type": "code",
        "colab": {}
      },
      "cell_type": "code",
      "source": [
        "s_clean, sr_clean=librosa.load('train_clean_male.wav',sr=None)\n",
        "S_clean=librosa.stft(s_clean, n_fft=1024, hop_length=512)\n",
        "Y_train = np.abs(S_clean).T\n",
        "\n",
        "s_dirty, sr_noisy=librosa.load('train_dirty_male.wav',sr=None)\n",
        "S_dirty=librosa.stft(s_dirty, n_fft=1024, hop_length=512)\n",
        "\n",
        "X_train = np.abs(S_dirty).T\n"
      ],
      "execution_count": 0,
      "outputs": []
    },
    {
      "metadata": {
        "id": "RccTjHtoz0gw",
        "colab_type": "code",
        "colab": {
          "base_uri": "https://localhost:8080/",
          "height": 34
        },
        "outputId": "3a9104e1-24c7-4252-f1da-d4df22dd291c"
      },
      "cell_type": "code",
      "source": [
        "print(f'Shape of slean signal is {Y_train.shape} and shape of noisy signal is {X_train.shape}')"
      ],
      "execution_count": 4,
      "outputs": [
        {
          "output_type": "stream",
          "text": [
            "Shape of slean signal is (2459, 513) and shape of noisy signal is (2459, 513)\n"
          ],
          "name": "stdout"
        }
      ]
    },
    {
      "metadata": {
        "id": "3wGEiRbxd98Y",
        "colab_type": "text"
      },
      "cell_type": "markdown",
      "source": [
        "## Helper Functions"
      ]
    },
    {
      "metadata": {
        "id": "zT-YFjzOeAgd",
        "colab_type": "code",
        "colab": {}
      },
      "cell_type": "code",
      "source": [
        "def initialise_weights(shape):\n",
        "    return tf.Variable(tf.truncated_normal(shape, stddev=0.05))\n",
        "  \n",
        "def get_input_batch(batch_size, data, labels):\n",
        "    '''\n",
        "    Return a total of `batch_size` random samples and labels. \n",
        "    '''\n",
        "    index = np.random.choice(data.shape[0], batch_size)\n",
        "    x = [data[i] for i in (index)]\n",
        "    y = [labels[i] for i in (index)]\n",
        "    return np.asarray(x), np.asarray(y)"
      ],
      "execution_count": 0,
      "outputs": []
    },
    {
      "metadata": {
        "id": "Pc-_IwjB6U2v",
        "colab_type": "text"
      },
      "cell_type": "markdown",
      "source": [
        "## Neural Network Configuration"
      ]
    },
    {
      "metadata": {
        "id": "YvB75w0gxerZ",
        "colab_type": "code",
        "colab": {}
      },
      "cell_type": "code",
      "source": [
        "Batch_Size = 100\n",
        "kernel_size = 5\n",
        "stride = 1\n",
        "\n",
        "kernel_num1 = 10\n",
        "kernel_num2 = 12\n",
        "\n",
        "fully_connected_size = 513\n",
        "\n",
        "X = tf.placeholder(\"float\", [Batch_Size,1,513])\n",
        "Y = tf.placeholder(\"float\", [Batch_Size,1,513])\n",
        "\n",
        "filters = {\n",
        "              'wc1': tf.get_variable('W0', shape=(kernel_size,1,kernel_num1), initializer=tf.contrib.layers.xavier_initializer()),\n",
        "              'wc2': tf.get_variable('W1', shape=(kernel_size,kernel_num1,kernel_num2), initializer=tf.contrib.layers.xavier_initializer())\n",
        "    \n",
        "}"
      ],
      "execution_count": 0,
      "outputs": []
    },
    {
      "metadata": {
        "id": "RnaLE_4861lZ",
        "colab_type": "code",
        "colab": {}
      },
      "cell_type": "code",
      "source": [
        "#Convolution Layer \n",
        "# kernel tensor of shape [filter_width, in_channels, out_channels]\n",
        "\n",
        "def build_convolutional_layer(input,kernel_num,kernel_size,stride,pooling_option):\n",
        "    \n",
        "    conv_layer = tf.nn.conv1d(input,kernal,stride,pooling_option,data_format='NCW')\n",
        "    conv_layer = tf.nn.bias_add(conv_layer,bias)\n",
        "    \n",
        "    if pooling_option:\n",
        "      conv_layer = tf.nn.max_pool1d(conv_layer,kernel_size,stride,data_format='NCW')\n",
        "    \n",
        "    conv_layer = tf.nn.relu(conv_layer)\n",
        "    \n",
        "    return conv_layer\n",
        "      "
      ],
      "execution_count": 0,
      "outputs": []
    },
    {
      "metadata": {
        "id": "Ague7UIDTaIO",
        "colab_type": "code",
        "colab": {}
      },
      "cell_type": "code",
      "source": [
        "def conv_nn(input):\n",
        "  \n",
        "  layer1 = build_convolutional_layer(input,kernel_num1,kernel_size,stride,False)\n",
        "  \n",
        "  layer2 = build_convolutional_layer(layer1,kernel_num2,kernel_size,stride,False)\n",
        "  \n",
        "  output = \n",
        "  "
      ],
      "execution_count": 0,
      "outputs": []
    }
  ]
}