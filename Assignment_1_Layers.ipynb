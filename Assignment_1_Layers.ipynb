{
  "nbformat": 4,
  "nbformat_minor": 0,
  "metadata": {
    "colab": {
      "name": "Assignment 1_Layers.ipynb",
      "version": "0.3.2",
      "provenance": [],
      "collapsed_sections": [],
      "include_colab_link": true
    },
    "kernelspec": {
      "name": "python3",
      "display_name": "Python 3"
    },
    "accelerator": "GPU"
  },
  "cells": [
    {
      "cell_type": "markdown",
      "metadata": {
        "id": "view-in-github",
        "colab_type": "text"
      },
      "source": [
        "<a href=\"https://colab.research.google.com/github/saurabhIU/Deep-Learning/blob/master/Assignment_1_Layers.ipynb\" target=\"_parent\"><img src=\"https://colab.research.google.com/assets/colab-badge.svg\" alt=\"Open In Colab\"/></a>"
      ]
    },
    {
      "metadata": {
        "id": "cCbFx22sjGHL",
        "colab_type": "code",
        "colab": {}
      },
      "cell_type": "code",
      "source": [
        "from __future__ import absolute_import, division, print_function\n",
        "\n",
        "import tensorflow as tf\n",
        "import numpy as np\n",
        "import matplotlib.pyplot as plt\n",
        "import warnings\n",
        "import time\n",
        "import os\n",
        "warnings.filterwarnings('ignore')"
      ],
      "execution_count": 0,
      "outputs": []
    },
    {
      "metadata": {
        "id": "um53XWCHqOLW",
        "colab_type": "code",
        "outputId": "4fb53965-cb77-44ce-8ea2-48d446263a90",
        "colab": {
          "base_uri": "https://localhost:8080/",
          "height": 51
        }
      },
      "cell_type": "code",
      "source": [
        "!ls"
      ],
      "execution_count": 27,
      "outputs": [
        {
          "output_type": "stream",
          "text": [
            "checkpoint   my_test_model.data-00000-of-00001\tmy_test_model.meta\n",
            "checkpoints  my_test_model.index\t\tsample_data\n"
          ],
          "name": "stdout"
        }
      ]
    },
    {
      "metadata": {
        "id": "gaEswpHsjW1L",
        "colab_type": "code",
        "outputId": "ca85ea90-2627-401b-b085-66ea88c2a587",
        "colab": {
          "base_uri": "https://localhost:8080/",
          "height": 85
        }
      },
      "cell_type": "code",
      "source": [
        "from tensorflow.examples.tutorials.mnist import input_data\n",
        "mnist = input_data.read_data_sets(\"/tmp/data/MNIST_data\", one_hot=True)\n",
        "\n"
      ],
      "execution_count": 28,
      "outputs": [
        {
          "output_type": "stream",
          "text": [
            "Extracting /tmp/data/MNIST_data/train-images-idx3-ubyte.gz\n",
            "Extracting /tmp/data/MNIST_data/train-labels-idx1-ubyte.gz\n",
            "Extracting /tmp/data/MNIST_data/t10k-images-idx3-ubyte.gz\n",
            "Extracting /tmp/data/MNIST_data/t10k-labels-idx1-ubyte.gz\n"
          ],
          "name": "stdout"
        }
      ]
    },
    {
      "metadata": {
        "id": "5UBTmBrylbBo",
        "colab_type": "code",
        "outputId": "c6482fd8-42a6-4e45-db9f-d9efc04800ab",
        "colab": {
          "base_uri": "https://localhost:8080/",
          "height": 51
        }
      },
      "cell_type": "code",
      "source": [
        "X_train, Y_train = mnist.train.images,mnist.train.labels\n",
        "X_test, Y_test = mnist.test.images, mnist.test.labels\n",
        "print (f'Total Training Images in Dataset {X_train.shape} , Total training label is {Y_train.shape}')\n",
        "print (f'Total Test Images in Dataset {X_test.shape} , Total test label is {Y_test.shape}')"
      ],
      "execution_count": 29,
      "outputs": [
        {
          "output_type": "stream",
          "text": [
            "Total Training Images in Dataset (55000, 784) , Total training label is (55000, 10)\n",
            "Total Test Images in Dataset (10000, 784) , Total test label is (10000, 10)\n"
          ],
          "name": "stdout"
        }
      ]
    },
    {
      "metadata": {
        "id": "HhjKIbfBabU1",
        "colab_type": "code",
        "colab": {}
      },
      "cell_type": "code",
      "source": [
        "EPOCHS = 400\n",
        "BATCH_SIZE = tf.placeholder(tf.int64)\n",
        "TEST_BATCH_SIZE = tf.placeholder(tf.int64)\n",
        "training_dataset = tf.data.Dataset.from_tensor_slices((X_train, tf.cast(Y_train,tf.float32))).shuffle(500).repeat().batch(BATCH_SIZE)\n",
        "test_dataset = tf.data.Dataset.from_tensor_slices((X_test, tf.cast(Y_test,tf.float32))).batch(TEST_BATCH_SIZE)"
      ],
      "execution_count": 0,
      "outputs": []
    },
    {
      "metadata": {
        "id": "CTo5LDHradmV",
        "colab_type": "code",
        "colab": {}
      },
      "cell_type": "code",
      "source": [
        "iterator = tf.data.Iterator.from_structure(training_dataset.output_types,\n",
        "                                               training_dataset.output_shapes)\n",
        "next_batch = iterator.get_next()"
      ],
      "execution_count": 0,
      "outputs": []
    },
    {
      "metadata": {
        "id": "_thZj4Jvaf3h",
        "colab_type": "code",
        "colab": {}
      },
      "cell_type": "code",
      "source": [
        "training_initialise = iterator.make_initializer(training_dataset)\n",
        "test_initialise = iterator.make_initializer(test_dataset)"
      ],
      "execution_count": 0,
      "outputs": []
    },
    {
      "metadata": {
        "id": "eZUfLv5w90xD",
        "colab_type": "code",
        "colab": {}
      },
      "cell_type": "code",
      "source": [
        "def nn_model(input_data):\n",
        " \n",
        "    layer1 = tf.layers.dense(input_data, 1024,activation=tf.nn.relu)\n",
        "    layer2 = tf.layers.dense(layer1, 1024,activation=tf.nn.relu)\n",
        "    layer3 = tf.layers.dense(layer2, 1024,activation=tf.nn.relu)\n",
        "    layer4 = tf.layers.dense(layer3, 1024,activation=tf.nn.relu)\n",
        "    logits = tf.layers.dense(layer4, 10)\n",
        "    \n",
        "    return logits\n",
        "\n"
      ],
      "execution_count": 0,
      "outputs": []
    },
    {
      "metadata": {
        "id": "buaiCswtGyZn",
        "colab_type": "code",
        "colab": {}
      },
      "cell_type": "code",
      "source": [
        "logits = nn_model(next_batch[0])\n",
        "cost = tf.nn.softmax_cross_entropy_with_logits_v2(labels=next_batch[1],logits=logits)\n",
        "optimizer = tf.train.AdamOptimizer().minimize(cost)\n",
        "prediction = tf.nn.softmax(logits)\n",
        "correct_prediction = tf.equal(tf.argmax(prediction, axis=1), tf.argmax(next_batch[1], axis=1))\n",
        "accuracy = tf.reduce_mean(tf.cast(correct_prediction, tf.float32))\n",
        "saver = tf.train.Saver()\n",
        "save_dir = 'checkpoints/'\n",
        "if not os.path.exists(save_dir):\n",
        "    os.makedirs(save_dir)\n"
      ],
      "execution_count": 0,
      "outputs": []
    },
    {
      "metadata": {
        "id": "Vkk22st6vL41",
        "colab_type": "code",
        "colab": {
          "base_uri": "https://localhost:8080/",
          "height": 119
        },
        "outputId": "d89b0009-5448-4b93-c56e-24bccf8be561"
      },
      "cell_type": "code",
      "source": [
        "sess =  tf.Session() \n",
        "    \n",
        "sess.run(tf.global_variables_initializer())\n",
        "sess.run(training_initialise,feed_dict={BATCH_SIZE : 5000 })\n",
        "  \n",
        "tic = time.time()\n",
        "for i in range(EPOCHS):\n",
        "    c,_,acc = sess.run([cost, optimizer, accuracy])\n",
        "    if i % 100 == 0:\n",
        "      print(f'Epoch: {i},training accuracy:{acc * 100}')\n",
        "toc = time.time()\n",
        "print(f'Time taken for training is {toc-tic}')\n",
        "saver.save(sess, save_path=save_dir)\n",
        "#   print(sess.run('dense/kernel:0'))\n",
        "sess.run(test_initialise,feed_dict={TEST_BATCH_SIZE : 10000 })\n",
        "print(f'Test Accuracy is {sess.run(accuracy*100)}')"
      ],
      "execution_count": 37,
      "outputs": [
        {
          "output_type": "stream",
          "text": [
            "Epoch: 0,training accuracy:10.419999808073044\n",
            "Epoch: 100,training accuracy:99.59999918937683\n",
            "Epoch: 200,training accuracy:99.8799979686737\n",
            "Epoch: 300,training accuracy:99.8799979686737\n",
            "Time taken for training is 33.23950672149658\n",
            "Test Accuracy is 98.40999603271484\n"
          ],
          "name": "stdout"
        }
      ]
    },
    {
      "metadata": {
        "id": "TKEtymTs82kX",
        "colab_type": "text"
      },
      "cell_type": "markdown",
      "source": [
        "**Once you’re done with training, as a starter, do a feedforward step on your test samples, a thousand of them. Capture the output of the softmax layer, which will be a 10-dim probability vector per sample. In other words, each output dimension has 1,000 predictions corresponding to the 1,000 examples. For each 10-d output vector, find the dim with the maximum probability (which will eventually decide the class label). Plot the input image associated with that in a grid of subplots. For example, you can create a 10 × 10 grid of subplots, whose first row plots first ten input images that produced the highest probabilities for the first dim (which corresponds to “0”). Eventually, if your classification was near perfect, you’ll see ten 0’s in the first row, ten 1’s in the second, and so on.**"
      ]
    },
    {
      "metadata": {
        "id": "WCqKIyUH84z7",
        "colab_type": "code",
        "outputId": "a8b0b1dc-24a0-4aff-c6b0-32dd84385cb6",
        "colab": {
          "base_uri": "https://localhost:8080/",
          "height": 51
        }
      },
      "cell_type": "code",
      "source": [
        "#Lets take a sample of 1000 from test set\n",
        "saver.restore(sess, save_path=save_dir)\n",
        "sess.run(test_initialise,feed_dict={TEST_BATCH_SIZE : 1000 })\n",
        "print(f'Test Accuracy is {sess.run(accuracy*100)}')\n",
        "#   output = sess.run(prediction)\n",
        "#   print(output.shape)"
      ],
      "execution_count": 39,
      "outputs": [
        {
          "output_type": "stream",
          "text": [
            "INFO:tensorflow:Restoring parameters from checkpoints/\n",
            "Test Accuracy is 98.29999542236328\n"
          ],
          "name": "stdout"
        }
      ]
    },
    {
      "metadata": {
        "id": "hNeO5EWnF21s",
        "colab_type": "code",
        "colab": {}
      },
      "cell_type": "code",
      "source": [
        ""
      ],
      "execution_count": 0,
      "outputs": []
    }
  ]
}