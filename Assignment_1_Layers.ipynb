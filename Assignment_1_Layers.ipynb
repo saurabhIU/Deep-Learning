{
  "nbformat": 4,
  "nbformat_minor": 0,
  "metadata": {
    "colab": {
      "name": "Assignment 1_Layers.ipynb",
      "version": "0.3.2",
      "provenance": [],
      "collapsed_sections": [],
      "include_colab_link": true
    },
    "kernelspec": {
      "name": "python3",
      "display_name": "Python 3"
    },
    "accelerator": "GPU"
  },
  "cells": [
    {
      "cell_type": "markdown",
      "metadata": {
        "id": "view-in-github",
        "colab_type": "text"
      },
      "source": [
        "<a href=\"https://colab.research.google.com/github/saurabhIU/Deep-Learning/blob/master/Assignment_1_Layers.ipynb\" target=\"_parent\"><img src=\"https://colab.research.google.com/assets/colab-badge.svg\" alt=\"Open In Colab\"/></a>"
      ]
    },
    {
      "metadata": {
        "id": "cCbFx22sjGHL",
        "colab_type": "code",
        "colab": {}
      },
      "cell_type": "code",
      "source": [
        "from __future__ import absolute_import, division, print_function\n",
        "\n",
        "import tensorflow as tf\n",
        "import numpy as np\n",
        "import matplotlib.pyplot as plt\n",
        "import warnings\n",
        "import time\n",
        "warnings.filterwarnings('ignore')"
      ],
      "execution_count": 0,
      "outputs": []
    },
    {
      "metadata": {
        "id": "um53XWCHqOLW",
        "colab_type": "code",
        "colab": {
          "base_uri": "https://localhost:8080/",
          "height": 34
        },
        "outputId": "8cba7fb0-7bdd-40ea-8c4c-1fc2491b0b56"
      },
      "cell_type": "code",
      "source": [
        "!ls"
      ],
      "execution_count": 3,
      "outputs": [
        {
          "output_type": "stream",
          "text": [
            "sample_data\n"
          ],
          "name": "stdout"
        }
      ]
    },
    {
      "metadata": {
        "id": "gaEswpHsjW1L",
        "colab_type": "code",
        "outputId": "bc7af31a-a6c1-4804-a814-6fb567d166da",
        "colab": {
          "base_uri": "https://localhost:8080/",
          "height": 530
        }
      },
      "cell_type": "code",
      "source": [
        "from tensorflow.examples.tutorials.mnist import input_data\n",
        "mnist = input_data.read_data_sets(\"/tmp/data/MNIST_data\", one_hot=True)\n",
        "\n"
      ],
      "execution_count": 4,
      "outputs": [
        {
          "output_type": "stream",
          "text": [
            "WARNING:tensorflow:From <ipython-input-4-ab2797289218>:2: read_data_sets (from tensorflow.contrib.learn.python.learn.datasets.mnist) is deprecated and will be removed in a future version.\n",
            "Instructions for updating:\n",
            "Please use alternatives such as official/mnist/dataset.py from tensorflow/models.\n",
            "WARNING:tensorflow:From /usr/local/lib/python3.6/dist-packages/tensorflow/contrib/learn/python/learn/datasets/mnist.py:260: maybe_download (from tensorflow.contrib.learn.python.learn.datasets.base) is deprecated and will be removed in a future version.\n",
            "Instructions for updating:\n",
            "Please write your own downloading logic.\n",
            "WARNING:tensorflow:From /usr/local/lib/python3.6/dist-packages/tensorflow/contrib/learn/python/learn/datasets/base.py:252: _internal_retry.<locals>.wrap.<locals>.wrapped_fn (from tensorflow.contrib.learn.python.learn.datasets.base) is deprecated and will be removed in a future version.\n",
            "Instructions for updating:\n",
            "Please use urllib or similar directly.\n",
            "Successfully downloaded train-images-idx3-ubyte.gz 9912422 bytes.\n",
            "WARNING:tensorflow:From /usr/local/lib/python3.6/dist-packages/tensorflow/contrib/learn/python/learn/datasets/mnist.py:262: extract_images (from tensorflow.contrib.learn.python.learn.datasets.mnist) is deprecated and will be removed in a future version.\n",
            "Instructions for updating:\n",
            "Please use tf.data to implement this functionality.\n",
            "Extracting /tmp/data/MNIST_data/train-images-idx3-ubyte.gz\n",
            "Successfully downloaded train-labels-idx1-ubyte.gz 28881 bytes.\n",
            "WARNING:tensorflow:From /usr/local/lib/python3.6/dist-packages/tensorflow/contrib/learn/python/learn/datasets/mnist.py:267: extract_labels (from tensorflow.contrib.learn.python.learn.datasets.mnist) is deprecated and will be removed in a future version.\n",
            "Instructions for updating:\n",
            "Please use tf.data to implement this functionality.\n",
            "Extracting /tmp/data/MNIST_data/train-labels-idx1-ubyte.gz\n",
            "WARNING:tensorflow:From /usr/local/lib/python3.6/dist-packages/tensorflow/contrib/learn/python/learn/datasets/mnist.py:110: dense_to_one_hot (from tensorflow.contrib.learn.python.learn.datasets.mnist) is deprecated and will be removed in a future version.\n",
            "Instructions for updating:\n",
            "Please use tf.one_hot on tensors.\n",
            "Successfully downloaded t10k-images-idx3-ubyte.gz 1648877 bytes.\n",
            "Extracting /tmp/data/MNIST_data/t10k-images-idx3-ubyte.gz\n",
            "Successfully downloaded t10k-labels-idx1-ubyte.gz 4542 bytes.\n",
            "Extracting /tmp/data/MNIST_data/t10k-labels-idx1-ubyte.gz\n",
            "WARNING:tensorflow:From /usr/local/lib/python3.6/dist-packages/tensorflow/contrib/learn/python/learn/datasets/mnist.py:290: DataSet.__init__ (from tensorflow.contrib.learn.python.learn.datasets.mnist) is deprecated and will be removed in a future version.\n",
            "Instructions for updating:\n",
            "Please use alternatives such as official/mnist/dataset.py from tensorflow/models.\n"
          ],
          "name": "stdout"
        }
      ]
    },
    {
      "metadata": {
        "id": "AexaviP0qW3p",
        "colab_type": "code",
        "colab": {
          "base_uri": "https://localhost:8080/",
          "height": 34
        },
        "outputId": "0c91e01a-84c0-4d67-9354-2c908c1337f8"
      },
      "cell_type": "code",
      "source": [
        "!cd sample_data\n",
        "!ls\n"
      ],
      "execution_count": 7,
      "outputs": [
        {
          "output_type": "stream",
          "text": [
            "sample_data\n"
          ],
          "name": "stdout"
        }
      ]
    },
    {
      "metadata": {
        "id": "5UBTmBrylbBo",
        "colab_type": "code",
        "outputId": "b372c7b0-d0e8-44a5-dca8-98e9f53d48fe",
        "colab": {
          "base_uri": "https://localhost:8080/",
          "height": 51
        }
      },
      "cell_type": "code",
      "source": [
        "X_train, Y_train = mnist.train.images,mnist.train.labels\n",
        "X_test, Y_test = mnist.test.images, mnist.test.labels\n",
        "print (f'Total Training Images in Dataset {X_train.shape} , Total training label is {Y_train.shape}')\n",
        "print (f'Total Test Images in Dataset {X_test.shape} , Total test label is {Y_test.shape}')"
      ],
      "execution_count": 0,
      "outputs": [
        {
          "output_type": "stream",
          "text": [
            "Total Training Images in Dataset (55000, 784) , Total training label is (55000, 10)\n",
            "Total Test Images in Dataset (10000, 784) , Total test label is (10000, 10)\n"
          ],
          "name": "stdout"
        }
      ]
    },
    {
      "metadata": {
        "id": "HhjKIbfBabU1",
        "colab_type": "code",
        "colab": {}
      },
      "cell_type": "code",
      "source": [
        "EPOCHS = 400\n",
        "BATCH_SIZE = tf.placeholder(tf.int64)\n",
        "TEST_BATCH_SIZE = tf.placeholder(tf.int64)\n",
        "training_dataset = tf.data.Dataset.from_tensor_slices((X_train, tf.cast(Y_train,tf.float32))).shuffle(500).repeat().batch(BATCH_SIZE)\n",
        "test_dataset = tf.data.Dataset.from_tensor_slices((X_test, tf.cast(Y_test,tf.float32))).batch(TEST_BATCH_SIZE)"
      ],
      "execution_count": 0,
      "outputs": []
    },
    {
      "metadata": {
        "id": "CTo5LDHradmV",
        "colab_type": "code",
        "colab": {}
      },
      "cell_type": "code",
      "source": [
        "iterator = tf.data.Iterator.from_structure(training_dataset.output_types,\n",
        "                                               training_dataset.output_shapes)\n",
        "next_batch = iterator.get_next()"
      ],
      "execution_count": 0,
      "outputs": []
    },
    {
      "metadata": {
        "id": "_thZj4Jvaf3h",
        "colab_type": "code",
        "outputId": "c781a764-5c39-4dae-fa82-3eec4e87c06b",
        "colab": {
          "base_uri": "https://localhost:8080/",
          "height": 88
        }
      },
      "cell_type": "code",
      "source": [
        "training_initialise = iterator.make_initializer(training_dataset)\n",
        "test_initialise = iterator.make_initializer(test_dataset)"
      ],
      "execution_count": 0,
      "outputs": [
        {
          "output_type": "stream",
          "text": [
            "WARNING:tensorflow:From /usr/local/lib/python3.6/dist-packages/tensorflow/python/data/ops/iterator_ops.py:358: colocate_with (from tensorflow.python.framework.ops) is deprecated and will be removed in a future version.\n",
            "Instructions for updating:\n",
            "Colocations handled automatically by placer.\n"
          ],
          "name": "stdout"
        }
      ]
    },
    {
      "metadata": {
        "id": "eZUfLv5w90xD",
        "colab_type": "code",
        "colab": {}
      },
      "cell_type": "code",
      "source": [
        "def nn_model(input_data):\n",
        " \n",
        "    layer1 = tf.layers.dense(input_data, 1024,activation=tf.nn.relu)\n",
        "    layer2 = tf.layers.dense(layer1, 1024,activation=tf.nn.relu)\n",
        "    layer3 = tf.layers.dense(layer2, 1024,activation=tf.nn.relu)\n",
        "    layer4 = tf.layers.dense(layer3, 1024,activation=tf.nn.relu)\n",
        "    logits = tf.layers.dense(layer4, 10)\n",
        "    \n",
        "    return logits\n",
        "\n"
      ],
      "execution_count": 0,
      "outputs": []
    },
    {
      "metadata": {
        "id": "buaiCswtGyZn",
        "colab_type": "code",
        "outputId": "9261b4e0-7020-4c09-9454-644b4504d642",
        "colab": {
          "base_uri": "https://localhost:8080/",
          "height": 340
        }
      },
      "cell_type": "code",
      "source": [
        "logits = nn_model(next_batch[0])\n",
        "cost = tf.nn.softmax_cross_entropy_with_logits_v2(labels=next_batch[1],logits=logits)\n",
        "optimizer = tf.train.AdamOptimizer().minimize(cost)\n",
        "prediction = tf.nn.softmax(logits)\n",
        "correct_prediction = tf.equal(tf.argmax(prediction, axis=1), tf.argmax(next_batch[1], axis=1))\n",
        "accuracy = tf.reduce_mean(tf.cast(correct_prediction, tf.float32))\n",
        "saver = tf.train.Saver()\n",
        "with tf.Session() as sess:\n",
        "    \n",
        "  sess.run(tf.global_variables_initializer())\n",
        "  sess.run(training_initialise,feed_dict={BATCH_SIZE : 5000 })\n",
        "  \n",
        "  tic = time.time()\n",
        "  for i in range(EPOCHS):\n",
        "      c,_,acc = sess.run([cost, optimizer, accuracy])\n",
        "      if i % 100 == 0:\n",
        "        print(f'Epoch: {i},training accuracy:{acc * 100}')\n",
        "  toc = time.time()\n",
        "  print(f'Time taken for training is {toc-tic}')\n",
        "  saver.save(sess, 'my_test_model')\n",
        "  print(sess.run('dense/kernel:0'))\n",
        "  sess.run(test_initialise,feed_dict={TEST_BATCH_SIZE : 10000 })\n",
        "  print(f'Test Accuracy is {sess.run(accuracy*100)}')"
      ],
      "execution_count": 0,
      "outputs": [
        {
          "output_type": "stream",
          "text": [
            "Epoch: 0,training accuracy:9.480000287294388\n",
            "Epoch: 100,training accuracy:99.68000054359436\n",
            "Epoch: 200,training accuracy:99.76000189781189\n",
            "Epoch: 300,training accuracy:99.98000264167786\n",
            "Time taken for training is 30.64551091194153\n",
            "[[ 0.00425869 -0.02255107  0.00219797 ... -0.0264618  -0.01091101\n",
            "  -0.00476566]\n",
            " [-0.016219   -0.05603886 -0.05388064 ... -0.04955673  0.04796556\n",
            "   0.03913813]\n",
            " [ 0.00454208  0.0109181  -0.02915775 ...  0.03768468  0.009473\n",
            "  -0.0180878 ]\n",
            " ...\n",
            " [-0.0150599  -0.02832601 -0.02342281 ...  0.02483512 -0.02270656\n",
            "   0.00476719]\n",
            " [-0.05559292  0.05699813  0.04527441 ... -0.0225671  -0.00055209\n",
            "   0.05755037]\n",
            " [-0.03027477  0.04205611 -0.00922514 ...  0.04132445 -0.05411967\n",
            "  -0.04358999]]\n",
            "Test Accuracy is 98.0199966430664\n"
          ],
          "name": "stdout"
        }
      ]
    },
    {
      "metadata": {
        "id": "TKEtymTs82kX",
        "colab_type": "text"
      },
      "cell_type": "markdown",
      "source": [
        "**Once you’re done with training, as a starter, do a feedforward step on your test samples, a thousand of them. Capture the output of the softmax layer, which will be a 10-dim probability vector per sample. In other words, each output dimension has 1,000 predictions corresponding to the 1,000 examples. For each 10-d output vector, find the dim with the maximum probability (which will eventually decide the class label). Plot the input image associated with that in a grid of subplots. For example, you can create a 10 × 10 grid of subplots, whose first row plots first ten input images that produced the highest probabilities for the first dim (which corresponds to “0”). Eventually, if your classification was near perfect, you’ll see ten 0’s in the first row, ten 1’s in the second, and so on.**"
      ]
    },
    {
      "metadata": {
        "id": "WCqKIyUH84z7",
        "colab_type": "code",
        "outputId": "ed6a3f6b-fbb6-47cc-f95a-f4bc1058fba3",
        "colab": {
          "base_uri": "https://localhost:8080/",
          "height": 34
        }
      },
      "cell_type": "code",
      "source": [
        "#Lets take a sample of 1000 from test set\n",
        "with tf.Session() as sess:\n",
        "  sess.run(tf.global_variables_initializer())\n",
        "  sess.run(test_initialise,feed_dict={TEST_BATCH_SIZE : 1000 })\n",
        "  \n",
        "  print(f'Test Accuracy is {sess.run(accuracy*100)}')\n",
        "#   output = sess.run(prediction)\n",
        "#   print(output.shape)"
      ],
      "execution_count": 0,
      "outputs": [
        {
          "output_type": "stream",
          "text": [
            "Test Accuracy is 11.5\n"
          ],
          "name": "stdout"
        }
      ]
    },
    {
      "metadata": {
        "id": "hNeO5EWnF21s",
        "colab_type": "code",
        "colab": {}
      },
      "cell_type": "code",
      "source": [
        ""
      ],
      "execution_count": 0,
      "outputs": []
    }
  ]
}