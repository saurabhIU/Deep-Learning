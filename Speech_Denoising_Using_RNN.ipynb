{
  "nbformat": 4,
  "nbformat_minor": 0,
  "metadata": {
    "colab": {
      "name": "Speech Denoising Using RNN.ipynb",
      "version": "0.3.2",
      "provenance": [],
      "collapsed_sections": [],
      "toc_visible": true,
      "include_colab_link": true
    },
    "kernelspec": {
      "name": "python3",
      "display_name": "Python 3"
    },
    "accelerator": "GPU"
  },
  "cells": [
    {
      "cell_type": "markdown",
      "metadata": {
        "id": "view-in-github",
        "colab_type": "text"
      },
      "source": [
        "<a href=\"https://colab.research.google.com/github/saurabhIU/Deep-Learning/blob/master/Speech_Denoising_Using_RNN.ipynb\" target=\"_parent\"><img src=\"https://colab.research.google.com/assets/colab-badge.svg\" alt=\"Open In Colab\"/></a>"
      ]
    },
    {
      "metadata": {
        "id": "wmg9Tsn5wmYp",
        "colab_type": "text"
      },
      "cell_type": "markdown",
      "source": [
        "## Dependencies"
      ]
    },
    {
      "metadata": {
        "id": "YgEeXmqnwnMo",
        "colab_type": "code",
        "colab": {}
      },
      "cell_type": "code",
      "source": [
        "import tensorflow as tf\n",
        "import numpy as np\n",
        "import matplotlib.pyplot as plt\n",
        "import glob\n",
        "import glob\n",
        "import librosa\n",
        "import os"
      ],
      "execution_count": 0,
      "outputs": []
    },
    {
      "metadata": {
        "id": "mVMOTCgVN113",
        "colab_type": "text"
      },
      "cell_type": "markdown",
      "source": [
        "## Mount Google Drive on Colab"
      ]
    },
    {
      "metadata": {
        "id": "fNkbZduiN5HA",
        "colab_type": "code",
        "outputId": "a56b26b7-ac84-4b10-e80e-b5a91e77818f",
        "colab": {
          "base_uri": "https://localhost:8080/",
          "height": 122
        }
      },
      "cell_type": "code",
      "source": [
        "from google.colab import drive\n",
        "drive.mount('/content/gdrive')"
      ],
      "execution_count": 2,
      "outputs": [
        {
          "output_type": "stream",
          "text": [
            "Go to this URL in a browser: https://accounts.google.com/o/oauth2/auth?client_id=947318989803-6bn6qk8qdgf4n4g3pfee6491hc0brc4i.apps.googleusercontent.com&redirect_uri=urn%3Aietf%3Awg%3Aoauth%3A2.0%3Aoob&scope=email%20https%3A%2F%2Fwww.googleapis.com%2Fauth%2Fdocs.test%20https%3A%2F%2Fwww.googleapis.com%2Fauth%2Fdrive%20https%3A%2F%2Fwww.googleapis.com%2Fauth%2Fdrive.photos.readonly%20https%3A%2F%2Fwww.googleapis.com%2Fauth%2Fpeopleapi.readonly&response_type=code\n",
            "\n",
            "Enter your authorization code:\n",
            "··········\n",
            "Mounted at /content/gdrive\n"
          ],
          "name": "stdout"
        }
      ]
    },
    {
      "metadata": {
        "id": "clovqK-_c9BO",
        "colab_type": "code",
        "outputId": "2dcf9e6e-02fe-4515-9c20-a3a15a560503",
        "colab": {
          "base_uri": "https://localhost:8080/",
          "height": 34
        }
      },
      "cell_type": "code",
      "source": [
        "!ls /content/gdrive/'My Drive/Assignment 3'"
      ],
      "execution_count": 3,
      "outputs": [
        {
          "output_type": "stream",
          "text": [
            "te  tr\tv\n"
          ],
          "name": "stdout"
        }
      ]
    },
    {
      "metadata": {
        "id": "7FoF--_24Kas",
        "colab_type": "code",
        "colab": {
          "base_uri": "https://localhost:8080/",
          "height": 34
        },
        "outputId": "134cb0b2-77c3-408e-ffb6-a883e8946b47"
      },
      "cell_type": "code",
      "source": [
        "tf.__version__"
      ],
      "execution_count": 5,
      "outputs": [
        {
          "output_type": "execute_result",
          "data": {
            "text/plain": [
              "'1.13.1'"
            ]
          },
          "metadata": {
            "tags": []
          },
          "execution_count": 5
        }
      ]
    },
    {
      "metadata": {
        "id": "aazXiQVWOMY5",
        "colab_type": "text"
      },
      "cell_type": "markdown",
      "source": [
        "## Load  Data and get STFT"
      ]
    },
    {
      "metadata": {
        "id": "wxZlSP2QOORM",
        "colab_type": "code",
        "colab": {}
      },
      "cell_type": "code",
      "source": [
        "def load_files(path):\n",
        "  \n",
        "  file_td , file_fd , file_fd_abs, length = [] , [] , [], []\n",
        "  \n",
        "  for file in sorted(glob.iglob(path + '*.wav')):\n",
        "    \n",
        "    s,sr = librosa.load(file, sr=None)\n",
        "    \n",
        "    file_td.append(s)\n",
        "    \n",
        "    \n",
        "    S = librosa.stft(s, n_fft=1024, hop_length=512)\n",
        "    file_fd.append(S)\n",
        "    \n",
        "    S_abs = np.abs(S)\n",
        "    padd_length = 200-S_abs.shape[1]\n",
        "    S_abs  = np.pad(S_abs , ((0,0),(0, padd_length )), 'constant')\n",
        "    file_fd_abs.append(S_abs)\n",
        "    \n",
        "    length.append(S_abs.shape[1])\n",
        "    \n",
        "  return file_td , file_fd , file_fd_abs, length\n",
        "  "
      ],
      "execution_count": 0,
      "outputs": []
    },
    {
      "metadata": {
        "id": "j1xzPPCABt_8",
        "colab_type": "text"
      },
      "cell_type": "markdown",
      "source": [
        "## Import Training files"
      ]
    },
    {
      "metadata": {
        "id": "st3bUAppap3X",
        "colab_type": "code",
        "outputId": "0c7f4c52-e61d-4ba6-d7c4-730da92eb10c",
        "colab": {
          "base_uri": "https://localhost:8080/",
          "height": 68
        }
      },
      "cell_type": "code",
      "source": [
        "# Training signal files\n",
        "\n",
        "file_path = '/content/gdrive/My Drive/Assignment 3/tr/trx'\n",
        "file_td , file_fd , file_fd_abs, length = load_files(file_path)\n",
        "\n",
        "print(\"Training file download complete..\")\n",
        "\n",
        "# Training clean signal files\n",
        "\n",
        "file_path = '/content/gdrive/My Drive/Assignment 3/tr/trs'\n",
        "file_td_clean , file_fd_clean , file_fd_abs_clean, length_clean = load_files(file_path)\n",
        "print(\"Clean signal file download complete..\")\n",
        "\n",
        "# Training Noise signal files\n",
        "\n",
        "file_path = '/content/gdrive/My Drive/Assignment 3/tr/trn'\n",
        "file_td_noise , file_fd_noise , file_fd_abs_noise, length_noise = load_files(file_path)\n",
        "print(\"Noise file download complete..\")"
      ],
      "execution_count": 7,
      "outputs": [
        {
          "output_type": "stream",
          "text": [
            "Training file download complete..\n",
            "Clean signal file download complete..\n",
            "Noise file download complete..\n"
          ],
          "name": "stdout"
        }
      ]
    },
    {
      "metadata": {
        "id": "QHhdXDYdyodM",
        "colab_type": "text"
      },
      "cell_type": "markdown",
      "source": [
        "## Import Validation files"
      ]
    },
    {
      "metadata": {
        "id": "It3cgxnupBuJ",
        "colab_type": "code",
        "colab": {
          "base_uri": "https://localhost:8080/",
          "height": 68
        },
        "outputId": "449da640-ff2f-4a67-efb6-ba0d28a53ca6"
      },
      "cell_type": "code",
      "source": [
        " # Validation signal files\n",
        "\n",
        "file_path = '/content/gdrive/My Drive/Assignment 3/v/vx'\n",
        "val_td , val_fd , val_fd_abs, val_length = load_files(file_path)\n",
        "\n",
        "print(\"Validation training file download complete..\")\n",
        "\n",
        "# Validation clean signal files\n",
        "\n",
        "file_path = '/content/gdrive/My Drive/Assignment 3/v/vs'\n",
        "val_td_clean , val_fd_clean , val_fd_abs_clean, val_length_clean = load_files(file_path)\n",
        "print(\"Validation Clean signal file download complete..\")\n",
        "\n",
        "# Validation Noise signal files\n",
        "\n",
        "file_path = '/content/gdrive/My Drive/Assignment 3/v/vn'\n",
        "val_td_noise , val_fd_noise , val_fd_abs_noise, val_length_noise = load_files(file_path)\n",
        "print(\"Validation Noise file download complete..\")"
      ],
      "execution_count": 8,
      "outputs": [
        {
          "output_type": "stream",
          "text": [
            "Validation training file download complete..\n",
            "Validation Clean signal file download complete..\n",
            "Validation Noise file download complete..\n"
          ],
          "name": "stdout"
        }
      ]
    },
    {
      "metadata": {
        "id": "YawRiJI0O0-v",
        "colab_type": "text"
      },
      "cell_type": "markdown",
      "source": [
        "## Import Test Files"
      ]
    },
    {
      "metadata": {
        "id": "rOyZf__BO-5s",
        "colab_type": "code",
        "colab": {
          "base_uri": "https://localhost:8080/",
          "height": 34
        },
        "outputId": "2a5acc86-0a9e-4e59-ac28-0d80bcaa014c"
      },
      "cell_type": "code",
      "source": [
        "file_path = '/content/gdrive/My Drive/Assignment 3/te/'\n",
        "test_td, test_fd, test_fd_abs, test_len = load_files(file_path)\n",
        "print(\"Test file download complete..\")"
      ],
      "execution_count": 9,
      "outputs": [
        {
          "output_type": "stream",
          "text": [
            "Test file download complete..\n"
          ],
          "name": "stdout"
        }
      ]
    },
    {
      "metadata": {
        "id": "jbmlzy0skTlQ",
        "colab_type": "code",
        "colab": {}
      },
      "cell_type": "code",
      "source": [
        "file_fd_abs_clean_ = file_fd_abs_clean[0:1023]\n",
        "file_fd_abs_noise_ = file_fd_abs_noise[0:1023]"
      ],
      "execution_count": 0,
      "outputs": []
    },
    {
      "metadata": {
        "id": "cXnbNwY7fnPa",
        "colab_type": "text"
      },
      "cell_type": "markdown",
      "source": [
        "## Construct IBM Matrix"
      ]
    },
    {
      "metadata": {
        "id": "5rTDb01XCJaX",
        "colab_type": "code",
        "colab": {}
      },
      "cell_type": "code",
      "source": [
        "IBM_Matrix = [(file_fd_abs_clean_[i] > file_fd_abs_noise_[i]) for i in range(len(file_fd_abs_clean_))]"
      ],
      "execution_count": 0,
      "outputs": []
    },
    {
      "metadata": {
        "id": "MT-5bKqMklu1",
        "colab_type": "code",
        "colab": {}
      },
      "cell_type": "code",
      "source": [
        "IBM_Matrix = [IBM_Matrix[i].astype(int) for i in range(len(IBM_Matrix))]\n"
      ],
      "execution_count": 0,
      "outputs": []
    },
    {
      "metadata": {
        "id": "1u4uJL4zkKC8",
        "colab_type": "text"
      },
      "cell_type": "markdown",
      "source": [
        "## RNN Model"
      ]
    },
    {
      "metadata": {
        "id": "sUgtUl8wkIpc",
        "colab_type": "code",
        "colab": {}
      },
      "cell_type": "code",
      "source": [
        "model = tf.keras.Sequential()\n",
        "model.add(tf.keras.layers.LSTM(512, activation='relu', return_sequences=True))\n",
        "model.add(tf.keras.layers.Dropout(0.2))\n",
        "\n",
        "model.add(tf.keras.layers.LSTM(512, activation='relu', return_sequences=True))\n",
        "model.add(tf.keras.layers.Dropout(0.1))\n",
        "\n",
        "model.add(tf.keras.layers.Dense(513, activation='relu'))\n",
        "\n",
        "model.add(tf.keras.layers.Activation(tf.nn.sigmoid))\n",
        "model.add(tf.keras.layers.Activation(tf.nn.relu))\n",
        "\n"
      ],
      "execution_count": 0,
      "outputs": []
    },
    {
      "metadata": {
        "id": "4ki_EJJzmH9z",
        "colab_type": "text"
      },
      "cell_type": "markdown",
      "source": [
        "## Reshape IBM and training matricies "
      ]
    },
    {
      "metadata": {
        "id": "yaXUBDXyl1WK",
        "colab_type": "code",
        "colab": {}
      },
      "cell_type": "code",
      "source": [
        "IBM = np.array(IBM_Matrix).swapaxes(1,2)"
      ],
      "execution_count": 0,
      "outputs": []
    },
    {
      "metadata": {
        "id": "1bhwE5RkmBso",
        "colab_type": "code",
        "colab": {
          "base_uri": "https://localhost:8080/",
          "height": 34
        },
        "outputId": "2be3dc76-a549-4465-cdd9-e3d04c719dc8"
      },
      "cell_type": "code",
      "source": [
        "file_fd_abs_ = np.array(file_fd_abs).swapaxes(1,2)\n",
        "print(file_fd_abs_.shape)"
      ],
      "execution_count": 21,
      "outputs": [
        {
          "output_type": "stream",
          "text": [
            "(1023, 200, 513)\n"
          ],
          "name": "stdout"
        }
      ]
    },
    {
      "metadata": {
        "id": "zBdrwraknSLu",
        "colab_type": "code",
        "colab": {
          "base_uri": "https://localhost:8080/",
          "height": 34
        },
        "outputId": "b6b81056-e80c-4840-8ff3-049ffa91222e"
      },
      "cell_type": "code",
      "source": [
        "print(IBM.shape)"
      ],
      "execution_count": 22,
      "outputs": [
        {
          "output_type": "stream",
          "text": [
            "(1023, 200, 513)\n"
          ],
          "name": "stdout"
        }
      ]
    },
    {
      "metadata": {
        "id": "R3lBVI3Bf1r3",
        "colab_type": "code",
        "colab": {
          "base_uri": "https://localhost:8080/",
          "height": 136
        },
        "outputId": "8c72600d-7e14-4e21-cbf7-1b61272fd844"
      },
      "cell_type": "code",
      "source": [
        "model.compile(optimizer='adam',\n",
        "              loss=tf.keras.losses.MeanSquaredError(),\n",
        "              metrics=['accuracy'])\n",
        "\n",
        "model.fit(file_fd_abs_,\n",
        "          IBM,\n",
        "          epochs=3,\n",
        "          batch_size=10)"
      ],
      "execution_count": 24,
      "outputs": [
        {
          "output_type": "stream",
          "text": [
            "Epoch 1/3\n",
            "1023/1023 [==============================] - 130s 128ms/sample - loss: 0.2603 - acc: 0.4324\n",
            "Epoch 2/3\n",
            "1023/1023 [==============================] - 129s 126ms/sample - loss: 0.2500 - acc: 0.7058\n",
            "Epoch 3/3\n",
            "1023/1023 [==============================] - 130s 127ms/sample - loss: 0.2500 - acc: 0.7058\n"
          ],
          "name": "stdout"
        },
        {
          "output_type": "execute_result",
          "data": {
            "text/plain": [
              "<tensorflow.python.keras.callbacks.History at 0x7f5830ebe208>"
            ]
          },
          "metadata": {
            "tags": []
          },
          "execution_count": 24
        }
      ]
    },
    {
      "metadata": {
        "id": "OmdPkv1YknC-",
        "colab_type": "code",
        "colab": {
          "base_uri": "https://localhost:8080/",
          "height": 34
        },
        "outputId": "0284f282-56da-4cfa-e079-daa88d0f8cc9"
      },
      "cell_type": "code",
      "source": [
        "file_fd_abs_[0].shape[1]"
      ],
      "execution_count": 27,
      "outputs": [
        {
          "output_type": "execute_result",
          "data": {
            "text/plain": [
              "513"
            ]
          },
          "metadata": {
            "tags": []
          },
          "execution_count": 27
        }
      ]
    },
    {
      "metadata": {
        "id": "btfliyeFqWUh",
        "colab_type": "text"
      },
      "cell_type": "markdown",
      "source": [
        "## SNR for Training data"
      ]
    },
    {
      "metadata": {
        "id": "ry9kjySXlOh2",
        "colab_type": "code",
        "colab": {
          "base_uri": "https://localhost:8080/",
          "height": 34
        },
        "outputId": "c25f7119-c75c-49ed-e2bf-65a75bd32aeb"
      },
      "cell_type": "code",
      "source": [
        "file_fd_abs_.shape"
      ],
      "execution_count": 31,
      "outputs": [
        {
          "output_type": "execute_result",
          "data": {
            "text/plain": [
              "(1023, 200, 513)"
            ]
          },
          "metadata": {
            "tags": []
          },
          "execution_count": 31
        }
      ]
    },
    {
      "metadata": {
        "id": "grsJuOzQl1O2",
        "colab_type": "code",
        "colab": {
          "base_uri": "https://localhost:8080/",
          "height": 34
        },
        "outputId": "0105b3b0-872f-4ce7-9934-5412a974d8ca"
      },
      "cell_type": "code",
      "source": [
        "file_fd_abs_clean_ = file_fd_abs_clean[0:1023]\n",
        "file_fd_abs_clean_ = np.array(file_fd_abs_clean_).swapaxes(1,2)\n",
        "file_fd_abs_clean_.shape"
      ],
      "execution_count": 37,
      "outputs": [
        {
          "output_type": "execute_result",
          "data": {
            "text/plain": [
              "(1023, 200, 513)"
            ]
          },
          "metadata": {
            "tags": []
          },
          "execution_count": 37
        }
      ]
    },
    {
      "metadata": {
        "id": "KvD5PEZmqZ9g",
        "colab_type": "code",
        "colab": {}
      },
      "cell_type": "code",
      "source": [
        "training_snr = []\n",
        "for i in range(len(file_fd_abs_)):\n",
        "  \n",
        "    SNR_i = 0\n",
        "\n",
        "    x = np.zeros((1, file_fd_abs_[i].shape[0], file_fd_abs_[i].shape[1]))\n",
        "    y = np.zeros((1, file_fd_abs_clean_[i].shape[0], file_fd_abs_clean_[i].shape[1]))\n",
        "    \n",
        "    x[0,:,:] = file_fd_abs_[i]\n",
        "    y[0,:,:] = file_fd_abs_clean_[i]\n",
        "\n",
        "    \n",
        "    prediction = model.predict(x,y)\n",
        "            \n",
        "    X = file_fd[i]\n",
        "    s = file_td_clean[i]\n",
        "    prediction = 1 * (prediction > 0.5)\n",
        "    prediction = prediction.T\n",
        "    S_prediction = prediction * X\n",
        "    s_prediction = librosa.istft(S_prediction, win_length = 1024, hop_length = 512)\n",
        "    s_clean = s[0:s_prediction.size]\n",
        "\n",
        "    SNR_i = 10*np.log10(np.dot(s_clean.T,s_clean)/np.dot((s_clean - s_pred).T,(s_clean - s_pred)))\n",
        "    training_snr.append(SNR_i)\n",
        "    "
      ],
      "execution_count": 0,
      "outputs": []
    }
  ]
}