{
  "nbformat": 4,
  "nbformat_minor": 0,
  "metadata": {
    "colab": {
      "name": "Network Compression Using SVD.ipynb",
      "version": "0.3.2",
      "provenance": [],
      "collapsed_sections": [],
      "include_colab_link": true
    },
    "kernelspec": {
      "name": "python3",
      "display_name": "Python 3"
    },
    "accelerator": "GPU"
  },
  "cells": [
    {
      "cell_type": "markdown",
      "metadata": {
        "id": "view-in-github",
        "colab_type": "text"
      },
      "source": [
        "<a href=\"https://colab.research.google.com/github/saurabhIU/Deep-Learning/blob/master/Network_Compression_Using_SVD.ipynb\" target=\"_parent\"><img src=\"https://colab.research.google.com/assets/colab-badge.svg\" alt=\"Open In Colab\"/></a>"
      ]
    },
    {
      "metadata": {
        "id": "Ju9ihwjwvsuC",
        "colab_type": "text"
      },
      "cell_type": "markdown",
      "source": [
        "## Note: I am using latest Tensorflow version 2.0 which was released recently. For network building I am using Keras with custom layers"
      ]
    },
    {
      "metadata": {
        "id": "3f6aZG_mv_DD",
        "colab_type": "text"
      },
      "cell_type": "markdown",
      "source": [
        "## Dependencies"
      ]
    },
    {
      "metadata": {
        "id": "20AC2z_gvnp1",
        "colab_type": "code",
        "colab": {}
      },
      "cell_type": "code",
      "source": [
        "import tensorflow as tf\n",
        "import numpy as np\n",
        "import matplotlib.pyplot as plt"
      ],
      "execution_count": 0,
      "outputs": []
    },
    {
      "metadata": {
        "id": "WMeARAYswEB7",
        "colab_type": "text"
      },
      "cell_type": "markdown",
      "source": [
        "## Install Tensorflow 2.0.0"
      ]
    },
    {
      "metadata": {
        "id": "ZJEooGjkhPwg",
        "colab_type": "code",
        "outputId": "5de413e3-4ca7-4159-ebec-43421d6b7df9",
        "colab": {
          "base_uri": "https://localhost:8080/",
          "height": 360
        }
      },
      "cell_type": "code",
      "source": [
        "\n",
        "! pip install tensorflow-gpu==2.0.0-alpha0"
      ],
      "execution_count": 3,
      "outputs": [
        {
          "output_type": "stream",
          "text": [
            "Requirement already satisfied: tensorflow-gpu==2.0.0-alpha0 in /usr/local/lib/python3.6/dist-packages (2.0.0a0)\n",
            "Requirement already satisfied: tf-estimator-nightly<1.14.0.dev2019030116,>=1.14.0.dev2019030115 in /usr/local/lib/python3.6/dist-packages (from tensorflow-gpu==2.0.0-alpha0) (1.14.0.dev2019030115)\n",
            "Requirement already satisfied: keras-applications>=1.0.6 in /usr/local/lib/python3.6/dist-packages (from tensorflow-gpu==2.0.0-alpha0) (1.0.7)\n",
            "Requirement already satisfied: keras-preprocessing>=1.0.5 in /usr/local/lib/python3.6/dist-packages (from tensorflow-gpu==2.0.0-alpha0) (1.0.9)\n",
            "Requirement already satisfied: protobuf>=3.6.1 in /usr/local/lib/python3.6/dist-packages (from tensorflow-gpu==2.0.0-alpha0) (3.7.1)\n",
            "Requirement already satisfied: tb-nightly<1.14.0a20190302,>=1.14.0a20190301 in /usr/local/lib/python3.6/dist-packages (from tensorflow-gpu==2.0.0-alpha0) (1.14.0a20190301)\n",
            "Requirement already satisfied: grpcio>=1.8.6 in /usr/local/lib/python3.6/dist-packages (from tensorflow-gpu==2.0.0-alpha0) (1.15.0)\n",
            "Requirement already satisfied: wheel>=0.26 in /usr/local/lib/python3.6/dist-packages (from tensorflow-gpu==2.0.0-alpha0) (0.33.1)\n",
            "Requirement already satisfied: absl-py>=0.7.0 in /usr/local/lib/python3.6/dist-packages (from tensorflow-gpu==2.0.0-alpha0) (0.7.1)\n",
            "Requirement already satisfied: google-pasta>=0.1.2 in /usr/local/lib/python3.6/dist-packages (from tensorflow-gpu==2.0.0-alpha0) (0.1.4)\n",
            "Requirement already satisfied: termcolor>=1.1.0 in /usr/local/lib/python3.6/dist-packages (from tensorflow-gpu==2.0.0-alpha0) (1.1.0)\n",
            "Requirement already satisfied: gast>=0.2.0 in /usr/local/lib/python3.6/dist-packages (from tensorflow-gpu==2.0.0-alpha0) (0.2.2)\n",
            "Requirement already satisfied: numpy<2.0,>=1.14.5 in /usr/local/lib/python3.6/dist-packages (from tensorflow-gpu==2.0.0-alpha0) (1.14.6)\n",
            "Requirement already satisfied: six>=1.10.0 in /usr/local/lib/python3.6/dist-packages (from tensorflow-gpu==2.0.0-alpha0) (1.11.0)\n",
            "Requirement already satisfied: astor>=0.6.0 in /usr/local/lib/python3.6/dist-packages (from tensorflow-gpu==2.0.0-alpha0) (0.7.1)\n",
            "Requirement already satisfied: h5py in /usr/local/lib/python3.6/dist-packages (from keras-applications>=1.0.6->tensorflow-gpu==2.0.0-alpha0) (2.8.0)\n",
            "Requirement already satisfied: setuptools in /usr/local/lib/python3.6/dist-packages (from protobuf>=3.6.1->tensorflow-gpu==2.0.0-alpha0) (40.8.0)\n",
            "Requirement already satisfied: markdown>=2.6.8 in /usr/local/lib/python3.6/dist-packages (from tb-nightly<1.14.0a20190302,>=1.14.0a20190301->tensorflow-gpu==2.0.0-alpha0) (3.1)\n",
            "Requirement already satisfied: werkzeug>=0.11.15 in /usr/local/lib/python3.6/dist-packages (from tb-nightly<1.14.0a20190302,>=1.14.0a20190301->tensorflow-gpu==2.0.0-alpha0) (0.15.1)\n"
          ],
          "name": "stdout"
        }
      ]
    },
    {
      "metadata": {
        "id": "aE6JxxgXlW4G",
        "colab_type": "code",
        "colab": {
          "base_uri": "https://localhost:8080/",
          "height": 34
        },
        "outputId": "58d36ee1-bbb5-4e17-820f-db66effe8f9a"
      },
      "cell_type": "code",
      "source": [
        "tf.__version__"
      ],
      "execution_count": 4,
      "outputs": [
        {
          "output_type": "execute_result",
          "data": {
            "text/plain": [
              "'2.0.0-alpha0'"
            ]
          },
          "metadata": {
            "tags": []
          },
          "execution_count": 4
        }
      ]
    },
    {
      "metadata": {
        "id": "UKCHclNcS-Ly",
        "colab_type": "code",
        "colab": {}
      },
      "cell_type": "code",
      "source": [
        "\n",
        "mnist = tf.keras.datasets.mnist\n",
        "(x_train, y_train), (x_test, y_test) = mnist.load_data()\n",
        "\n",
        "x_train = tf.keras.utils.normalize(x_train, axis=1)\n",
        "x_test = tf.keras.utils.normalize(x_test, axis=1)"
      ],
      "execution_count": 0,
      "outputs": []
    },
    {
      "metadata": {
        "id": "yf2y14kaYc7_",
        "colab_type": "text"
      },
      "cell_type": "markdown",
      "source": [
        "##Neural Network with 5 Layers each having 1024 units"
      ]
    },
    {
      "metadata": {
        "id": "xwP5cAuHoxwI",
        "colab_type": "code",
        "colab": {}
      },
      "cell_type": "code",
      "source": [
        "model = tf.keras.Sequential()\n",
        "model.add(tf.keras.layers.Flatten())\n",
        "model.add(tf.keras.layers.Dense(1024,activation=tf.nn.relu))\n",
        "model.add(tf.keras.layers.Dropout(0.1))\n",
        "model.add(tf.keras.layers.Dense(1024,activation=tf.nn.relu))\n",
        "model.add(tf.keras.layers.Dense(1024,activation=tf.nn.relu))\n",
        "model.add(tf.keras.layers.Dense(1024,activation=tf.nn.relu))\n",
        "model.add(tf.keras.layers.Dense(1024,activation=tf.nn.relu))\n",
        "model.add(tf.keras.layers.Dense(10,activation=tf.nn.softmax))\n"
      ],
      "execution_count": 0,
      "outputs": []
    },
    {
      "metadata": {
        "id": "j890-PtjwJEn",
        "colab_type": "text"
      },
      "cell_type": "markdown",
      "source": [
        "## Compile and Fit model"
      ]
    },
    {
      "metadata": {
        "id": "WScc0yJW6-mu",
        "colab_type": "code",
        "outputId": "2651dd5a-4697-4c6f-b479-09b73e6340af",
        "colab": {
          "base_uri": "https://localhost:8080/",
          "height": 204
        }
      },
      "cell_type": "code",
      "source": [
        "model.compile(optimizer='adam',\n",
        "              loss='sparse_categorical_crossentropy',\n",
        "              metrics=['accuracy'])\n",
        "\n",
        "model.fit(x_train, y_train, epochs=5)"
      ],
      "execution_count": 46,
      "outputs": [
        {
          "output_type": "stream",
          "text": [
            "Epoch 1/5\n",
            "60000/60000 [==============================] - 20s 341us/sample - loss: 0.0758 - accuracy: 0.9824\n",
            "Epoch 2/5\n",
            "60000/60000 [==============================] - 20s 337us/sample - loss: 0.0574 - accuracy: 0.9850\n",
            "Epoch 3/5\n",
            "60000/60000 [==============================] - 20s 338us/sample - loss: 0.0460 - accuracy: 0.9876\n",
            "Epoch 4/5\n",
            "60000/60000 [==============================] - 20s 333us/sample - loss: 0.0452 - accuracy: 0.9883\n",
            "Epoch 5/5\n",
            "60000/60000 [==============================] - 20s 338us/sample - loss: 0.0407 - accuracy: 0.9896\n"
          ],
          "name": "stdout"
        },
        {
          "output_type": "execute_result",
          "data": {
            "text/plain": [
              "<tensorflow.python.keras.callbacks.History at 0x7fc1d1613e10>"
            ]
          },
          "metadata": {
            "tags": []
          },
          "execution_count": 46
        }
      ]
    },
    {
      "metadata": {
        "id": "BMPc78BtwM_W",
        "colab_type": "text"
      },
      "cell_type": "markdown",
      "source": [
        ""
      ]
    },
    {
      "metadata": {
        "id": "Lus65E0iwNCr",
        "colab_type": "text"
      },
      "cell_type": "markdown",
      "source": [
        "## Evaluate model"
      ]
    },
    {
      "metadata": {
        "id": "B1f3uVeVkukz",
        "colab_type": "code",
        "colab": {
          "base_uri": "https://localhost:8080/",
          "height": 51
        },
        "outputId": "104a48d7-bd56-475d-e1b8-ea4be962104a"
      },
      "cell_type": "code",
      "source": [
        "loss, acc = model.evaluate(x_test,y_test)\n",
        "\n",
        "print(\"Loss {}, Accuracy {}\".format(loss, acc))"
      ],
      "execution_count": 47,
      "outputs": [
        {
          "output_type": "stream",
          "text": [
            "10000/10000 [==============================] - 1s 125us/sample - loss: 0.1238 - accuracy: 0.9802\n",
            "Loss 0.12375477882578416, Accuracy 0.9801999926567078\n"
          ],
          "name": "stdout"
        }
      ]
    },
    {
      "metadata": {
        "id": "LnC3zqgS2Pku",
        "colab_type": "text"
      },
      "cell_type": "markdown",
      "source": [
        "## Singular value decomposition of each dense layer except output layer"
      ]
    },
    {
      "metadata": {
        "id": "Lsr_uhxoeypA",
        "colab_type": "code",
        "colab": {}
      },
      "cell_type": "code",
      "source": [
        "#Weights of each layer\n",
        "layer1_weights = model.get_layer(index=1).get_weights()[0]\n",
        "layer2_weights = model.get_layer(index=3).get_weights()[0]\n",
        "layer3_weights = model.get_layer(index=4).get_weights()[0]\n",
        "layer4_weights = model.get_layer(index=5).get_weights()[0]\n",
        "layer5_weights = model.get_layer(index=6).get_weights()[0]\n",
        "\n",
        "\n",
        "#Biases of each layer\n",
        "layer1_bias = model.get_layer(index=1).get_weights()[1]\n",
        "layer2_bias = model.get_layer(index=3).get_weights()[1]\n",
        "layer3_bias = model.get_layer(index=4).get_weights()[1]\n",
        "layer4_bias = model.get_layer(index=5).get_weights()[1]\n",
        "layer5_bias = model.get_layer(index=6).get_weights()[1]"
      ],
      "execution_count": 0,
      "outputs": []
    },
    {
      "metadata": {
        "id": "4jb9n738jFzU",
        "colab_type": "code",
        "colab": {}
      },
      "cell_type": "code",
      "source": [
        "s1, u1, v1 = tf.linalg.svd(layer1_weights )\n",
        "s2, u2, v2 = tf.linalg.svd(layer2_weights )\n",
        "s3, u3, v3 = tf.linalg.svd(layer3_weights )\n",
        "s4, u4, v4 = tf.linalg.svd(layer4_weights )\n",
        "s5, u5, v5 = tf.linalg.svd(layer5_weights )"
      ],
      "execution_count": 0,
      "outputs": []
    },
    {
      "metadata": {
        "id": "9HXvf3qUNmQV",
        "colab_type": "code",
        "colab": {}
      },
      "cell_type": "code",
      "source": [
        "D_Values = [10,20,50,100,200,784]\n",
        "test_accuracies = []"
      ],
      "execution_count": 0,
      "outputs": []
    },
    {
      "metadata": {
        "id": "3An-g8o62ZxY",
        "colab_type": "text"
      },
      "cell_type": "markdown",
      "source": [
        "## Compress weights with D = 10"
      ]
    },
    {
      "metadata": {
        "id": "FZmiPY772j_h",
        "colab_type": "code",
        "colab": {}
      },
      "cell_type": "code",
      "source": [
        "D = 10\n",
        "\n",
        "W1_New , W2_New, W3_New, W4_New, W5_New = [] , [], [], [], []\n",
        "\n",
        "W_L1 = tf.matmul(u1[:,0:D], tf.matmul(tf.linalg.diag(s1)[0:D,0:D], v1[:,0:D], adjoint_b=True))\n",
        "W_L2 = tf.matmul(u2[:,0:D], tf.matmul(tf.linalg.diag(s2)[0:D,0:D], v2[:,0:D], adjoint_b=True))\n",
        "W_L3 = tf.matmul(u3[:,0:D], tf.matmul(tf.linalg.diag(s3)[0:D,0:D], v3[:,0:D], adjoint_b=True))\n",
        "W_L4 = tf.matmul(u4[:,0:D], tf.matmul(tf.linalg.diag(s4)[0:D,0:D], v4[:,0:D], adjoint_b=True))\n",
        "W_L5 = tf.matmul(u5[:,0:D], tf.matmul(tf.linalg.diag(s5)[0:D,0:D], v5[:,0:D], adjoint_b=True))"
      ],
      "execution_count": 0,
      "outputs": []
    },
    {
      "metadata": {
        "id": "__N_Z8un7mQR",
        "colab_type": "code",
        "colab": {}
      },
      "cell_type": "code",
      "source": [
        "W1_New.append(W_L1)\n",
        "W1_New.append(layer1_bias)\n",
        "\n",
        "W2_New.append(W_L2)\n",
        "W2_New.append(layer2_bias)\n",
        "\n",
        "W3_New.append(W_L3)\n",
        "W3_New.append(layer3_bias)\n",
        "\n",
        "W4_New.append(W_L4)\n",
        "W4_New.append(layer4_bias)\n",
        "\n",
        "W5_New.append(W_L5)\n",
        "W5_New.append(layer5_bias)"
      ],
      "execution_count": 0,
      "outputs": []
    },
    {
      "metadata": {
        "id": "mdefm6hd99cN",
        "colab_type": "code",
        "colab": {}
      },
      "cell_type": "code",
      "source": [
        "model.get_layer(index=1).set_weights(W1_New)\n",
        "model.get_layer(index=3).set_weights(W2_New)\n",
        "model.get_layer(index=4).set_weights(W3_New)\n",
        "model.get_layer(index=5).set_weights(W4_New)\n",
        "model.get_layer(index=6).set_weights(W5_New)"
      ],
      "execution_count": 0,
      "outputs": []
    },
    {
      "metadata": {
        "id": "Ikzd1Cnn-dhj",
        "colab_type": "code",
        "colab": {
          "base_uri": "https://localhost:8080/",
          "height": 51
        },
        "outputId": "233eaf9b-cca2-4060-a308-21a1a3a1191c"
      },
      "cell_type": "code",
      "source": [
        "loss, acc = model.evaluate(x_test,y_test)\n",
        "test_accuracies.append(acc)\n",
        "print(\"Loss {}, Accuracy {}\".format(loss, acc))"
      ],
      "execution_count": 56,
      "outputs": [
        {
          "output_type": "stream",
          "text": [
            "10000/10000 [==============================] - 1s 120us/sample - loss: 1.8959 - accuracy: 0.4507\n",
            "Loss 1.8958821159362793, Accuracy 0.4507000148296356\n"
          ],
          "name": "stdout"
        }
      ]
    },
    {
      "metadata": {
        "id": "kAI8gfyp3LrD",
        "colab_type": "text"
      },
      "cell_type": "markdown",
      "source": [
        "## Compress weights with D = 20"
      ]
    },
    {
      "metadata": {
        "id": "b7ZRVvon3ON4",
        "colab_type": "code",
        "colab": {}
      },
      "cell_type": "code",
      "source": [
        "D = 20\n",
        "\n",
        "W1_New , W2_New, W3_New, W4_New, W5_New = [] , [], [], [], []\n",
        "\n",
        "W_L1 = tf.matmul(u1[:,0:D], tf.matmul(tf.linalg.diag(s1)[0:D,0:D], v1[:,0:D], adjoint_b=True))\n",
        "W_L2 = tf.matmul(u2[:,0:D], tf.matmul(tf.linalg.diag(s2)[0:D,0:D], v2[:,0:D], adjoint_b=True))\n",
        "W_L3 = tf.matmul(u3[:,0:D], tf.matmul(tf.linalg.diag(s3)[0:D,0:D], v3[:,0:D], adjoint_b=True))\n",
        "W_L4 = tf.matmul(u4[:,0:D], tf.matmul(tf.linalg.diag(s4)[0:D,0:D], v4[:,0:D], adjoint_b=True))\n",
        "W_L5 = tf.matmul(u5[:,0:D], tf.matmul(tf.linalg.diag(s5)[0:D,0:D], v5[:,0:D], adjoint_b=True))"
      ],
      "execution_count": 0,
      "outputs": []
    },
    {
      "metadata": {
        "id": "JRwdRyX2_c04",
        "colab_type": "code",
        "colab": {}
      },
      "cell_type": "code",
      "source": [
        "W1_New.append(W_L1)\n",
        "W1_New.append(layer1_bias)\n",
        "\n",
        "W2_New.append(W_L2)\n",
        "W2_New.append(layer2_bias)\n",
        "\n",
        "W3_New.append(W_L3)\n",
        "W3_New.append(layer3_bias)\n",
        "\n",
        "W4_New.append(W_L4)\n",
        "W4_New.append(layer4_bias)\n",
        "\n",
        "W5_New.append(W_L5)\n",
        "W5_New.append(layer5_bias)"
      ],
      "execution_count": 0,
      "outputs": []
    },
    {
      "metadata": {
        "id": "UNUwPeGD_c-x",
        "colab_type": "code",
        "colab": {}
      },
      "cell_type": "code",
      "source": [
        "model.get_layer(index=1).set_weights(W1_New)\n",
        "model.get_layer(index=3).set_weights(W2_New)\n",
        "model.get_layer(index=4).set_weights(W3_New)\n",
        "model.get_layer(index=5).set_weights(W4_New)\n",
        "model.get_layer(index=6).set_weights(W5_New)"
      ],
      "execution_count": 0,
      "outputs": []
    },
    {
      "metadata": {
        "id": "KU7EXm6f_9cz",
        "colab_type": "code",
        "colab": {
          "base_uri": "https://localhost:8080/",
          "height": 51
        },
        "outputId": "7d9dba77-ec26-45bc-b3b5-1e370b6c1d46"
      },
      "cell_type": "code",
      "source": [
        "loss, acc = model.evaluate(x_test,y_test)\n",
        "test_accuracies.append(acc)\n",
        "\n",
        "print(\"Loss {}, Accuracy {}\".format(loss, acc))"
      ],
      "execution_count": 60,
      "outputs": [
        {
          "output_type": "stream",
          "text": [
            "10000/10000 [==============================] - 1s 120us/sample - loss: 0.6183 - accuracy: 0.8712\n",
            "Loss 0.6182540518283844, Accuracy 0.8712000250816345\n"
          ],
          "name": "stdout"
        }
      ]
    },
    {
      "metadata": {
        "id": "C9ocWI593YSa",
        "colab_type": "text"
      },
      "cell_type": "markdown",
      "source": [
        "## Compress weights with D = 50"
      ]
    },
    {
      "metadata": {
        "id": "znqDlY8t3a5z",
        "colab_type": "code",
        "colab": {}
      },
      "cell_type": "code",
      "source": [
        "D = 50\n",
        "W1_New , W2_New, W3_New, W4_New, W5_New = [] , [], [], [], []\n",
        "W_L1 = tf.matmul(u1[:,0:D], tf.matmul(tf.linalg.diag(s1)[0:D,0:D], v1[:,0:D], adjoint_b=True))\n",
        "W_L2 = tf.matmul(u2[:,0:D], tf.matmul(tf.linalg.diag(s2)[0:D,0:D], v2[:,0:D], adjoint_b=True))\n",
        "W_L3 = tf.matmul(u3[:,0:D], tf.matmul(tf.linalg.diag(s3)[0:D,0:D], v3[:,0:D], adjoint_b=True))\n",
        "W_L4 = tf.matmul(u4[:,0:D], tf.matmul(tf.linalg.diag(s4)[0:D,0:D], v4[:,0:D], adjoint_b=True))\n",
        "W_L5 = tf.matmul(u5[:,0:D], tf.matmul(tf.linalg.diag(s5)[0:D,0:D], v5[:,0:D], adjoint_b=True))"
      ],
      "execution_count": 0,
      "outputs": []
    },
    {
      "metadata": {
        "id": "GiluhSODA0GK",
        "colab_type": "code",
        "colab": {}
      },
      "cell_type": "code",
      "source": [
        "W1_New.append(W_L1)\n",
        "W1_New.append(layer1_bias)\n",
        "\n",
        "W2_New.append(W_L2)\n",
        "W2_New.append(layer2_bias)\n",
        "\n",
        "W3_New.append(W_L3)\n",
        "W3_New.append(layer3_bias)\n",
        "\n",
        "W4_New.append(W_L4)\n",
        "W4_New.append(layer4_bias)\n",
        "\n",
        "W5_New.append(W_L5)\n",
        "W5_New.append(layer5_bias)"
      ],
      "execution_count": 0,
      "outputs": []
    },
    {
      "metadata": {
        "id": "i0RHa-oGA0I3",
        "colab_type": "code",
        "colab": {}
      },
      "cell_type": "code",
      "source": [
        "model.get_layer(index=1).set_weights(W1_New)\n",
        "model.get_layer(index=3).set_weights(W2_New)\n",
        "model.get_layer(index=4).set_weights(W3_New)\n",
        "model.get_layer(index=5).set_weights(W4_New)\n",
        "model.get_layer(index=6).set_weights(W5_New)"
      ],
      "execution_count": 0,
      "outputs": []
    },
    {
      "metadata": {
        "id": "tGbuj44AA0Lf",
        "colab_type": "code",
        "colab": {
          "base_uri": "https://localhost:8080/",
          "height": 51
        },
        "outputId": "8b5e1f48-5687-4472-d1b0-3ef499171559"
      },
      "cell_type": "code",
      "source": [
        "loss, acc = model.evaluate(x_test,y_test)\n",
        "test_accuracies.append(acc)\n",
        "print(\"Loss {}, Accuracy {}\".format(loss, acc))"
      ],
      "execution_count": 64,
      "outputs": [
        {
          "output_type": "stream",
          "text": [
            "10000/10000 [==============================] - 1s 122us/sample - loss: 0.1382 - accuracy: 0.9768\n",
            "Loss 0.13819042009264232, Accuracy 0.9768000245094299\n"
          ],
          "name": "stdout"
        }
      ]
    },
    {
      "metadata": {
        "id": "4DluzkFX3iqK",
        "colab_type": "text"
      },
      "cell_type": "markdown",
      "source": [
        "## Compress weights with D = 100"
      ]
    },
    {
      "metadata": {
        "id": "rHW5TXOT3kki",
        "colab_type": "code",
        "colab": {}
      },
      "cell_type": "code",
      "source": [
        "D = 100\n",
        "\n",
        "W1_New , W2_New, W3_New, W4_New, W5_New = [] , [], [], [], []\n",
        "W_L1 = tf.matmul(u1[:,0:D], tf.matmul(tf.linalg.diag(s1)[0:D,0:D], v1[:,0:D], adjoint_b=True))\n",
        "W_L2 = tf.matmul(u2[:,0:D], tf.matmul(tf.linalg.diag(s2)[0:D,0:D], v2[:,0:D], adjoint_b=True))\n",
        "W_L3 = tf.matmul(u3[:,0:D], tf.matmul(tf.linalg.diag(s3)[0:D,0:D], v3[:,0:D], adjoint_b=True))\n",
        "W_L4 = tf.matmul(u4[:,0:D], tf.matmul(tf.linalg.diag(s4)[0:D,0:D], v4[:,0:D], adjoint_b=True))\n",
        "W_L5 = tf.matmul(u5[:,0:D], tf.matmul(tf.linalg.diag(s5)[0:D,0:D], v5[:,0:D], adjoint_b=True))"
      ],
      "execution_count": 0,
      "outputs": []
    },
    {
      "metadata": {
        "id": "Iv-icoF6BeSL",
        "colab_type": "code",
        "colab": {}
      },
      "cell_type": "code",
      "source": [
        "W1_New.append(W_L1)\n",
        "W1_New.append(layer1_bias)\n",
        "\n",
        "W2_New.append(W_L2)\n",
        "W2_New.append(layer2_bias)\n",
        "\n",
        "W3_New.append(W_L3)\n",
        "W3_New.append(layer3_bias)\n",
        "\n",
        "W4_New.append(W_L4)\n",
        "W4_New.append(layer4_bias)\n",
        "\n",
        "W5_New.append(W_L5)\n",
        "W5_New.append(layer5_bias)"
      ],
      "execution_count": 0,
      "outputs": []
    },
    {
      "metadata": {
        "id": "6pprqy5GBeUg",
        "colab_type": "code",
        "colab": {}
      },
      "cell_type": "code",
      "source": [
        "model.get_layer(index=1).set_weights(W1_New)\n",
        "model.get_layer(index=3).set_weights(W2_New)\n",
        "model.get_layer(index=4).set_weights(W3_New)\n",
        "model.get_layer(index=5).set_weights(W4_New)\n",
        "model.get_layer(index=6).set_weights(W5_New)"
      ],
      "execution_count": 0,
      "outputs": []
    },
    {
      "metadata": {
        "id": "rN-j2bq3Bh_G",
        "colab_type": "code",
        "colab": {
          "base_uri": "https://localhost:8080/",
          "height": 34
        },
        "outputId": "a39d5779-a045-4792-b841-e561972c8c04"
      },
      "cell_type": "code",
      "source": [
        "loss, acc = model.evaluate(x_test,y_test)\n",
        "test_accuracies.append(acc)"
      ],
      "execution_count": 68,
      "outputs": [
        {
          "output_type": "stream",
          "text": [
            "10000/10000 [==============================] - 1s 122us/sample - loss: 0.1061 - accuracy: 0.9793\n"
          ],
          "name": "stdout"
        }
      ]
    },
    {
      "metadata": {
        "id": "XMUqUh4q3rUU",
        "colab_type": "text"
      },
      "cell_type": "markdown",
      "source": [
        "## Compress weights with D = 200"
      ]
    },
    {
      "metadata": {
        "id": "KoLT0aZu3uPI",
        "colab_type": "code",
        "colab": {}
      },
      "cell_type": "code",
      "source": [
        "D = 200\n",
        "\n",
        "W1_New , W2_New, W3_New, W4_New, W5_New = [] , [], [], [], []\n",
        "W_L1 = tf.matmul(u1[:,0:D], tf.matmul(tf.linalg.diag(s1)[0:D,0:D], v1[:,0:D], adjoint_b=True))\n",
        "W_L2 = tf.matmul(u2[:,0:D], tf.matmul(tf.linalg.diag(s2)[0:D,0:D], v2[:,0:D], adjoint_b=True))\n",
        "W_L3 = tf.matmul(u3[:,0:D], tf.matmul(tf.linalg.diag(s3)[0:D,0:D], v3[:,0:D], adjoint_b=True))\n",
        "W_L4 = tf.matmul(u4[:,0:D], tf.matmul(tf.linalg.diag(s4)[0:D,0:D], v4[:,0:D], adjoint_b=True))\n",
        "W_L5 = tf.matmul(u5[:,0:D], tf.matmul(tf.linalg.diag(s5)[0:D,0:D], v5[:,0:D], adjoint_b=True))"
      ],
      "execution_count": 0,
      "outputs": []
    },
    {
      "metadata": {
        "id": "zzkjN3J_BtZI",
        "colab_type": "code",
        "colab": {}
      },
      "cell_type": "code",
      "source": [
        "W1_New.append(W_L1)\n",
        "W1_New.append(layer1_bias)\n",
        "\n",
        "W2_New.append(W_L2)\n",
        "W2_New.append(layer2_bias)\n",
        "\n",
        "W3_New.append(W_L3)\n",
        "W3_New.append(layer3_bias)\n",
        "\n",
        "W4_New.append(W_L4)\n",
        "W4_New.append(layer4_bias)\n",
        "\n",
        "W5_New.append(W_L5)\n",
        "W5_New.append(layer5_bias)"
      ],
      "execution_count": 0,
      "outputs": []
    },
    {
      "metadata": {
        "id": "hcNnI7UcBtb5",
        "colab_type": "code",
        "colab": {}
      },
      "cell_type": "code",
      "source": [
        "model.get_layer(index=1).set_weights(W1_New)\n",
        "model.get_layer(index=3).set_weights(W2_New)\n",
        "model.get_layer(index=4).set_weights(W3_New)\n",
        "model.get_layer(index=5).set_weights(W4_New)\n",
        "model.get_layer(index=6).set_weights(W5_New)"
      ],
      "execution_count": 0,
      "outputs": []
    },
    {
      "metadata": {
        "id": "4ri4SuXiBteb",
        "colab_type": "code",
        "colab": {
          "base_uri": "https://localhost:8080/",
          "height": 34
        },
        "outputId": "0774d591-6419-4299-90cb-d030c9d9c135"
      },
      "cell_type": "code",
      "source": [
        "loss, acc = model.evaluate(x_test,y_test)\n",
        "test_accuracies.append(acc)"
      ],
      "execution_count": 72,
      "outputs": [
        {
          "output_type": "stream",
          "text": [
            "10000/10000 [==============================] - 1s 119us/sample - loss: 0.1145 - accuracy: 0.9795\n"
          ],
          "name": "stdout"
        }
      ]
    },
    {
      "metadata": {
        "id": "7HVWECRH33qL",
        "colab_type": "text"
      },
      "cell_type": "markdown",
      "source": [
        "## Compress weights with D = 784"
      ]
    },
    {
      "metadata": {
        "id": "n0eJ8rt-36P3",
        "colab_type": "code",
        "colab": {}
      },
      "cell_type": "code",
      "source": [
        "D = 784\n",
        "\n",
        "W1_New , W2_New, W3_New, W4_New, W5_New = [] , [], [], [], []\n",
        "W_L1 = tf.matmul(u1, tf.matmul(tf.linalg.diag(s1), v1, adjoint_b=True))\n",
        "W_L2 = tf.matmul(u2, tf.matmul(tf.linalg.diag(s2), v2, adjoint_b=True))\n",
        "W_L3 = tf.matmul(u3, tf.matmul(tf.linalg.diag(s3), v3, adjoint_b=True))\n",
        "W_L4 = tf.matmul(u4, tf.matmul(tf.linalg.diag(s4), v4, adjoint_b=True))\n",
        "W_L5 = tf.matmul(u5, tf.matmul(tf.linalg.diag(s5), v5, adjoint_b=True))"
      ],
      "execution_count": 0,
      "outputs": []
    },
    {
      "metadata": {
        "id": "RztLT7eJ47lm",
        "colab_type": "code",
        "colab": {}
      },
      "cell_type": "code",
      "source": [
        "W1_New.append(W_L1)\n",
        "W1_New.append(layer1_bias)\n",
        "\n",
        "W2_New.append(W_L2)\n",
        "W2_New.append(layer2_bias)\n",
        "\n",
        "W3_New.append(W_L3)\n",
        "W3_New.append(layer3_bias)\n",
        "\n",
        "W4_New.append(W_L4)\n",
        "W4_New.append(layer4_bias)\n",
        "\n",
        "W5_New.append(W_L5)\n",
        "W5_New.append(layer5_bias)"
      ],
      "execution_count": 0,
      "outputs": []
    },
    {
      "metadata": {
        "id": "MSnQx3_qja71",
        "colab_type": "code",
        "colab": {}
      },
      "cell_type": "code",
      "source": [
        "model.get_layer(index=1).set_weights(W1_New)\n",
        "model.get_layer(index=3).set_weights(W2_New)\n",
        "model.get_layer(index=4).set_weights(W3_New)\n",
        "model.get_layer(index=5).set_weights(W4_New)\n",
        "model.get_layer(index=6).set_weights(W5_New)"
      ],
      "execution_count": 0,
      "outputs": []
    },
    {
      "metadata": {
        "id": "crdokDtkjcDW",
        "colab_type": "code",
        "colab": {
          "base_uri": "https://localhost:8080/",
          "height": 34
        },
        "outputId": "58a2d92e-1dc8-443f-c0d6-27763c0b99a3"
      },
      "cell_type": "code",
      "source": [
        "loss, acc = model.evaluate(x_test,y_test)\n",
        "test_accuracies.append(acc)"
      ],
      "execution_count": 76,
      "outputs": [
        {
          "output_type": "stream",
          "text": [
            "10000/10000 [==============================] - 1s 120us/sample - loss: 0.1238 - accuracy: 0.9802\n"
          ],
          "name": "stdout"
        }
      ]
    },
    {
      "metadata": {
        "id": "02r7dFHCHTzM",
        "colab_type": "code",
        "colab": {
          "base_uri": "https://localhost:8080/",
          "height": 361
        },
        "outputId": "ba0cfcc5-2a0c-450a-e7c9-53e7e8a0c6e4"
      },
      "cell_type": "code",
      "source": [
        "plt.plot(D_Values,test_accuracies)\n",
        "plt.ylabel('Test Accuracy')\n",
        "plt.xlabel('D Values')\n",
        "plt.show()"
      ],
      "execution_count": 77,
      "outputs": [
        {
          "output_type": "display_data",
          "data": {
            "image/png": "[encoded data removed]",
            "text/plain": [
              "<Figure size 576x396 with 1 Axes>"
            ]
          },
          "metadata": {
            "tags": []
          }
        }
      ]
    },
    {
      "metadata": {
        "id": "TNWwo_g5oQup",
        "colab_type": "code",
        "colab": {}
      },
      "cell_type": "code",
      "source": [
        ""
      ],
      "execution_count": 0,
      "outputs": []
    }
  ]
}