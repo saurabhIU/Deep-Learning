{
  "nbformat": 4,
  "nbformat_minor": 0,
  "metadata": {
    "colab": {
      "name": "Network Compression Using SVD.ipynb",
      "version": "0.3.2",
      "provenance": [],
      "collapsed_sections": [],
      "include_colab_link": true
    },
    "kernelspec": {
      "name": "python3",
      "display_name": "Python 3"
    },
    "accelerator": "GPU"
  },
  "cells": [
    {
      "cell_type": "markdown",
      "metadata": {
        "id": "view-in-github",
        "colab_type": "text"
      },
      "source": [
        "<a href=\"https://colab.research.google.com/github/saurabhIU/Deep-Learning/blob/master/Network_Compression_Using_SVD.ipynb\" target=\"_parent\"><img src=\"https://colab.research.google.com/assets/colab-badge.svg\" alt=\"Open In Colab\"/></a>"
      ]
    },
    {
      "metadata": {
        "id": "Ju9ihwjwvsuC",
        "colab_type": "text"
      },
      "cell_type": "markdown",
      "source": [
        "## Note: I am using latest Tensorflow version 2.0 which was released recently. For network building I am using Keras with custom layers"
      ]
    },
    {
      "metadata": {
        "id": "3f6aZG_mv_DD",
        "colab_type": "text"
      },
      "cell_type": "markdown",
      "source": [
        "## Dependencies"
      ]
    },
    {
      "metadata": {
        "id": "20AC2z_gvnp1",
        "colab_type": "code",
        "colab": {}
      },
      "cell_type": "code",
      "source": [
        "import tensorflow as tf\n",
        "import numpy as np\n",
        "import matplotlib.pyplot as plt"
      ],
      "execution_count": 0,
      "outputs": []
    },
    {
      "metadata": {
        "id": "WMeARAYswEB7",
        "colab_type": "text"
      },
      "cell_type": "markdown",
      "source": [
        "## Install Tensorflow 2.0.0"
      ]
    },
    {
      "metadata": {
        "id": "ZJEooGjkhPwg",
        "colab_type": "code",
        "outputId": "4532f758-c3d7-4cbc-9539-77aade75787d",
        "colab": {
          "base_uri": "https://localhost:8080/",
          "height": 626
        }
      },
      "cell_type": "code",
      "source": [
        "\n",
        "! pip install tensorflow-gpu==2.0.0-alpha0"
      ],
      "execution_count": 2,
      "outputs": [
        {
          "output_type": "stream",
          "text": [
            "Collecting tensorflow-gpu==2.0.0-alpha0\n",
            "\u001b[?25l  Downloading https://files.pythonhosted.org/packages/1a/66/32cffad095253219d53f6b6c2a436637bbe45ac4e7be0244557210dc3918/tensorflow_gpu-2.0.0a0-cp36-cp36m-manylinux1_x86_64.whl (332.1MB)\n",
            "\u001b[K    100% |████████████████████████████████| 332.1MB 57kB/s \n",
            "\u001b[?25hCollecting tb-nightly<1.14.0a20190302,>=1.14.0a20190301 (from tensorflow-gpu==2.0.0-alpha0)\n",
            "\u001b[?25l  Downloading https://files.pythonhosted.org/packages/a9/51/aa1d756644bf4624c03844115e4ac4058eff77acd786b26315f051a4b195/tb_nightly-1.14.0a20190301-py3-none-any.whl (3.0MB)\n",
            "\u001b[K    100% |████████████████████████████████| 3.0MB 8.0MB/s \n",
            "\u001b[?25hRequirement already satisfied: numpy<2.0,>=1.14.5 in /usr/local/lib/python3.6/dist-packages (from tensorflow-gpu==2.0.0-alpha0) (1.14.6)\n",
            "Requirement already satisfied: protobuf>=3.6.1 in /usr/local/lib/python3.6/dist-packages (from tensorflow-gpu==2.0.0-alpha0) (3.7.1)\n",
            "Requirement already satisfied: grpcio>=1.8.6 in /usr/local/lib/python3.6/dist-packages (from tensorflow-gpu==2.0.0-alpha0) (1.15.0)\n",
            "Requirement already satisfied: termcolor>=1.1.0 in /usr/local/lib/python3.6/dist-packages (from tensorflow-gpu==2.0.0-alpha0) (1.1.0)\n",
            "Collecting tf-estimator-nightly<1.14.0.dev2019030116,>=1.14.0.dev2019030115 (from tensorflow-gpu==2.0.0-alpha0)\n",
            "\u001b[?25l  Downloading https://files.pythonhosted.org/packages/13/82/f16063b4eed210dc2ab057930ac1da4fbe1e91b7b051a6c8370b401e6ae7/tf_estimator_nightly-1.14.0.dev2019030115-py2.py3-none-any.whl (411kB)\n",
            "\u001b[K    100% |████████████████████████████████| 419kB 10.6MB/s \n",
            "\u001b[?25hRequirement already satisfied: astor>=0.6.0 in /usr/local/lib/python3.6/dist-packages (from tensorflow-gpu==2.0.0-alpha0) (0.7.1)\n",
            "Requirement already satisfied: absl-py>=0.7.0 in /usr/local/lib/python3.6/dist-packages (from tensorflow-gpu==2.0.0-alpha0) (0.7.1)\n",
            "Requirement already satisfied: six>=1.10.0 in /usr/local/lib/python3.6/dist-packages (from tensorflow-gpu==2.0.0-alpha0) (1.11.0)\n",
            "Collecting google-pasta>=0.1.2 (from tensorflow-gpu==2.0.0-alpha0)\n",
            "\u001b[?25l  Downloading https://files.pythonhosted.org/packages/8c/96/adbd4eafe72ce9b5ca6f168fbf109386e1b601f7c59926a11e9d7b7a5b44/google_pasta-0.1.4-py3-none-any.whl (51kB)\n",
            "\u001b[K    100% |████████████████████████████████| 61kB 16.5MB/s \n",
            "\u001b[?25hRequirement already satisfied: keras-applications>=1.0.6 in /usr/local/lib/python3.6/dist-packages (from tensorflow-gpu==2.0.0-alpha0) (1.0.7)\n",
            "Requirement already satisfied: gast>=0.2.0 in /usr/local/lib/python3.6/dist-packages (from tensorflow-gpu==2.0.0-alpha0) (0.2.2)\n",
            "Requirement already satisfied: wheel>=0.26 in /usr/local/lib/python3.6/dist-packages (from tensorflow-gpu==2.0.0-alpha0) (0.33.1)\n",
            "Requirement already satisfied: keras-preprocessing>=1.0.5 in /usr/local/lib/python3.6/dist-packages (from tensorflow-gpu==2.0.0-alpha0) (1.0.9)\n",
            "Requirement already satisfied: markdown>=2.6.8 in /usr/local/lib/python3.6/dist-packages (from tb-nightly<1.14.0a20190302,>=1.14.0a20190301->tensorflow-gpu==2.0.0-alpha0) (3.1)\n",
            "Requirement already satisfied: werkzeug>=0.11.15 in /usr/local/lib/python3.6/dist-packages (from tb-nightly<1.14.0a20190302,>=1.14.0a20190301->tensorflow-gpu==2.0.0-alpha0) (0.15.2)\n",
            "Requirement already satisfied: setuptools in /usr/local/lib/python3.6/dist-packages (from protobuf>=3.6.1->tensorflow-gpu==2.0.0-alpha0) (40.9.0)\n",
            "Requirement already satisfied: h5py in /usr/local/lib/python3.6/dist-packages (from keras-applications>=1.0.6->tensorflow-gpu==2.0.0-alpha0) (2.8.0)\n",
            "Installing collected packages: tb-nightly, tf-estimator-nightly, google-pasta, tensorflow-gpu\n",
            "Successfully installed google-pasta-0.1.4 tb-nightly-1.14.0a20190301 tensorflow-gpu-2.0.0a0 tf-estimator-nightly-1.14.0.dev2019030115\n"
          ],
          "name": "stdout"
        },
        {
          "output_type": "display_data",
          "data": {
            "application/vnd.colab-display-data+json": {
              "pip_warning": {
                "packages": [
                  "tensorflow",
                  "tensorflow_estimator"
                ]
              }
            }
          },
          "metadata": {
            "tags": []
          }
        }
      ]
    },
    {
      "metadata": {
        "id": "aE6JxxgXlW4G",
        "colab_type": "code",
        "outputId": "3b9990cb-25b7-44b2-c925-42d699b75d84",
        "colab": {
          "base_uri": "https://localhost:8080/",
          "height": 34
        }
      },
      "cell_type": "code",
      "source": [
        "tf.__version__"
      ],
      "execution_count": 2,
      "outputs": [
        {
          "output_type": "execute_result",
          "data": {
            "text/plain": [
              "'2.0.0-alpha0'"
            ]
          },
          "metadata": {
            "tags": []
          },
          "execution_count": 2
        }
      ]
    },
    {
      "metadata": {
        "id": "UKCHclNcS-Ly",
        "colab_type": "code",
        "colab": {}
      },
      "cell_type": "code",
      "source": [
        "\n",
        "mnist = tf.keras.datasets.mnist\n",
        "(x_train, y_train), (x_test, y_test) = mnist.load_data()\n",
        "\n",
        "x_train = tf.keras.utils.normalize(x_train, axis=1)\n",
        "x_test = tf.keras.utils.normalize(x_test, axis=1)"
      ],
      "execution_count": 0,
      "outputs": []
    },
    {
      "metadata": {
        "id": "yf2y14kaYc7_",
        "colab_type": "text"
      },
      "cell_type": "markdown",
      "source": [
        "##Neural Network with 5 Layers each having 1024 units"
      ]
    },
    {
      "metadata": {
        "id": "xwP5cAuHoxwI",
        "colab_type": "code",
        "colab": {}
      },
      "cell_type": "code",
      "source": [
        "model = tf.keras.Sequential()\n",
        "model.add(tf.keras.layers.Flatten())\n",
        "model.add(tf.keras.layers.Dense(1024,activation=tf.nn.relu))\n",
        "model.add(tf.keras.layers.Dropout(0.1))\n",
        "model.add(tf.keras.layers.Dense(1024,activation=tf.nn.relu))\n",
        "model.add(tf.keras.layers.Dense(1024,activation=tf.nn.relu))\n",
        "model.add(tf.keras.layers.Dense(1024,activation=tf.nn.relu))\n",
        "model.add(tf.keras.layers.Dense(1024,activation=tf.nn.relu))\n",
        "model.add(tf.keras.layers.Dense(10,activation=tf.nn.softmax))\n"
      ],
      "execution_count": 0,
      "outputs": []
    },
    {
      "metadata": {
        "id": "j890-PtjwJEn",
        "colab_type": "text"
      },
      "cell_type": "markdown",
      "source": [
        "## Compile and Fit model"
      ]
    },
    {
      "metadata": {
        "id": "WScc0yJW6-mu",
        "colab_type": "code",
        "outputId": "ded785c5-bf1f-4e3a-b623-97a99747c952",
        "colab": {
          "base_uri": "https://localhost:8080/",
          "height": 208
        }
      },
      "cell_type": "code",
      "source": [
        "model.compile(optimizer='adam',\n",
        "              loss='sparse_categorical_crossentropy',\n",
        "              metrics=['accuracy'])\n",
        "\n",
        "model.fit(x_train, y_train, epochs=5)"
      ],
      "execution_count": 86,
      "outputs": [
        {
          "output_type": "stream",
          "text": [
            "Epoch 1/5\n",
            "60000/60000 [==============================] - 21s 351us/sample - loss: 0.2742 - accuracy: 0.9241\n",
            "Epoch 2/5\n",
            "60000/60000 [==============================] - 20s 337us/sample - loss: 0.1385 - accuracy: 0.9637\n",
            "Epoch 3/5\n",
            "60000/60000 [==============================] - 20s 340us/sample - loss: 0.1047 - accuracy: 0.9718\n",
            "Epoch 4/5\n",
            "60000/60000 [==============================] - 20s 341us/sample - loss: 0.0792 - accuracy: 0.9783\n",
            "Epoch 5/5\n",
            "60000/60000 [==============================] - 20s 340us/sample - loss: 0.0676 - accuracy: 0.9820\n"
          ],
          "name": "stdout"
        },
        {
          "output_type": "execute_result",
          "data": {
            "text/plain": [
              "<tensorflow.python.keras.callbacks.History at 0x7f6ada2c5da0>"
            ]
          },
          "metadata": {
            "tags": []
          },
          "execution_count": 86
        }
      ]
    },
    {
      "metadata": {
        "id": "Lus65E0iwNCr",
        "colab_type": "text"
      },
      "cell_type": "markdown",
      "source": [
        "## Evaluate model"
      ]
    },
    {
      "metadata": {
        "id": "B1f3uVeVkukz",
        "colab_type": "code",
        "outputId": "aeeedc92-b6fb-46cb-d868-6b79da8bcae5",
        "colab": {
          "base_uri": "https://localhost:8080/",
          "height": 52
        }
      },
      "cell_type": "code",
      "source": [
        "loss, acc = model.evaluate(x_test,y_test)\n",
        "\n",
        "print(\"Loss {}, Accuracy {}\".format(loss, acc))"
      ],
      "execution_count": 87,
      "outputs": [
        {
          "output_type": "stream",
          "text": [
            "10000/10000 [==============================] - 1s 133us/sample - loss: 0.1161 - accuracy: 0.9748\n",
            "Loss 0.1161006328253803, Accuracy 0.9747999906539917\n"
          ],
          "name": "stdout"
        }
      ]
    },
    {
      "metadata": {
        "id": "LnC3zqgS2Pku",
        "colab_type": "text"
      },
      "cell_type": "markdown",
      "source": [
        "## Singular value decomposition of each dense layer except output layer"
      ]
    },
    {
      "metadata": {
        "id": "Lsr_uhxoeypA",
        "colab_type": "code",
        "colab": {}
      },
      "cell_type": "code",
      "source": [
        "#Weights of each layer\n",
        "layer1_weights = model.get_layer(index=1).get_weights()[0]\n",
        "layer2_weights = model.get_layer(index=3).get_weights()[0]\n",
        "layer3_weights = model.get_layer(index=4).get_weights()[0]\n",
        "layer4_weights = model.get_layer(index=5).get_weights()[0]\n",
        "layer5_weights = model.get_layer(index=6).get_weights()[0]\n",
        "\n",
        "\n",
        "#Biases of each layer\n",
        "layer1_bias = model.get_layer(index=1).get_weights()[1]\n",
        "layer2_bias = model.get_layer(index=3).get_weights()[1]\n",
        "layer3_bias = model.get_layer(index=4).get_weights()[1]\n",
        "layer4_bias = model.get_layer(index=5).get_weights()[1]\n",
        "layer5_bias = model.get_layer(index=6).get_weights()[1]"
      ],
      "execution_count": 0,
      "outputs": []
    },
    {
      "metadata": {
        "id": "4jb9n738jFzU",
        "colab_type": "code",
        "colab": {}
      },
      "cell_type": "code",
      "source": [
        "s1, u1, v1 = tf.linalg.svd(layer1_weights )\n",
        "s2, u2, v2 = tf.linalg.svd(layer2_weights )\n",
        "s3, u3, v3 = tf.linalg.svd(layer3_weights )\n",
        "s4, u4, v4 = tf.linalg.svd(layer4_weights )\n",
        "s5, u5, v5 = tf.linalg.svd(layer5_weights )"
      ],
      "execution_count": 0,
      "outputs": []
    },
    {
      "metadata": {
        "id": "9HXvf3qUNmQV",
        "colab_type": "code",
        "colab": {}
      },
      "cell_type": "code",
      "source": [
        "D_Values = [10,20,50,100,200,784]\n",
        "test_accuracies = []"
      ],
      "execution_count": 0,
      "outputs": []
    },
    {
      "metadata": {
        "id": "3An-g8o62ZxY",
        "colab_type": "text"
      },
      "cell_type": "markdown",
      "source": [
        "## Compress weights with D = 10"
      ]
    },
    {
      "metadata": {
        "id": "FZmiPY772j_h",
        "colab_type": "code",
        "colab": {}
      },
      "cell_type": "code",
      "source": [
        "D = 10\n",
        "\n",
        "W1_New , W2_New, W3_New, W4_New, W5_New = [] , [], [], [], []\n",
        "\n",
        "W_L1 = tf.matmul(u1[:,0:D], tf.matmul(tf.linalg.diag(s1)[0:D,0:D], v1[:,0:D], adjoint_b=True))\n",
        "W_L2 = tf.matmul(u2[:,0:D], tf.matmul(tf.linalg.diag(s2)[0:D,0:D], v2[:,0:D], adjoint_b=True))\n",
        "W_L3 = tf.matmul(u3[:,0:D], tf.matmul(tf.linalg.diag(s3)[0:D,0:D], v3[:,0:D], adjoint_b=True))\n",
        "W_L4 = tf.matmul(u4[:,0:D], tf.matmul(tf.linalg.diag(s4)[0:D,0:D], v4[:,0:D], adjoint_b=True))\n",
        "W_L5 = tf.matmul(u5[:,0:D], tf.matmul(tf.linalg.diag(s5)[0:D,0:D], v5[:,0:D], adjoint_b=True))"
      ],
      "execution_count": 0,
      "outputs": []
    },
    {
      "metadata": {
        "id": "__N_Z8un7mQR",
        "colab_type": "code",
        "colab": {}
      },
      "cell_type": "code",
      "source": [
        "W1_New.append(W_L1)\n",
        "W1_New.append(layer1_bias)\n",
        "\n",
        "W2_New.append(W_L2)\n",
        "W2_New.append(layer2_bias)\n",
        "\n",
        "W3_New.append(W_L3)\n",
        "W3_New.append(layer3_bias)\n",
        "\n",
        "W4_New.append(W_L4)\n",
        "W4_New.append(layer4_bias)\n",
        "\n",
        "W5_New.append(W_L5)\n",
        "W5_New.append(layer5_bias)"
      ],
      "execution_count": 0,
      "outputs": []
    },
    {
      "metadata": {
        "id": "mdefm6hd99cN",
        "colab_type": "code",
        "colab": {}
      },
      "cell_type": "code",
      "source": [
        "model.get_layer(index=1).set_weights(W1_New)\n",
        "model.get_layer(index=3).set_weights(W2_New)\n",
        "model.get_layer(index=4).set_weights(W3_New)\n",
        "model.get_layer(index=5).set_weights(W4_New)\n",
        "model.get_layer(index=6).set_weights(W5_New)"
      ],
      "execution_count": 0,
      "outputs": []
    },
    {
      "metadata": {
        "id": "Ikzd1Cnn-dhj",
        "colab_type": "code",
        "outputId": "88e61f51-41d0-4d87-c8ef-c60f740ee6b6",
        "colab": {
          "base_uri": "https://localhost:8080/",
          "height": 52
        }
      },
      "cell_type": "code",
      "source": [
        "loss, acc = model.evaluate(x_test,y_test)\n",
        "test_accuracies.append(acc)\n",
        "print(\"Loss {}, Accuracy {}\".format(loss, acc))"
      ],
      "execution_count": 95,
      "outputs": [
        {
          "output_type": "stream",
          "text": [
            "10000/10000 [==============================] - 1s 110us/sample - loss: 0.7487 - accuracy: 0.8092\n",
            "Loss 0.7487141182422637, Accuracy 0.8091999888420105\n"
          ],
          "name": "stdout"
        }
      ]
    },
    {
      "metadata": {
        "id": "kAI8gfyp3LrD",
        "colab_type": "text"
      },
      "cell_type": "markdown",
      "source": [
        "## Compress weights with D = 20"
      ]
    },
    {
      "metadata": {
        "id": "b7ZRVvon3ON4",
        "colab_type": "code",
        "colab": {}
      },
      "cell_type": "code",
      "source": [
        "D = 20\n",
        "\n",
        "W1_New , W2_New, W3_New, W4_New, W5_New = [] , [], [], [], []\n",
        "\n",
        "W_L1 = tf.matmul(u1[:,0:D], tf.matmul(tf.linalg.diag(s1)[0:D,0:D], v1[:,0:D], adjoint_b=True))\n",
        "W_L2 = tf.matmul(u2[:,0:D], tf.matmul(tf.linalg.diag(s2)[0:D,0:D], v2[:,0:D], adjoint_b=True))\n",
        "W_L3 = tf.matmul(u3[:,0:D], tf.matmul(tf.linalg.diag(s3)[0:D,0:D], v3[:,0:D], adjoint_b=True))\n",
        "W_L4 = tf.matmul(u4[:,0:D], tf.matmul(tf.linalg.diag(s4)[0:D,0:D], v4[:,0:D], adjoint_b=True))\n",
        "W_L5 = tf.matmul(u5[:,0:D], tf.matmul(tf.linalg.diag(s5)[0:D,0:D], v5[:,0:D], adjoint_b=True))"
      ],
      "execution_count": 0,
      "outputs": []
    },
    {
      "metadata": {
        "id": "JRwdRyX2_c04",
        "colab_type": "code",
        "colab": {}
      },
      "cell_type": "code",
      "source": [
        "W1_New.append(W_L1)\n",
        "W1_New.append(layer1_bias)\n",
        "\n",
        "W2_New.append(W_L2)\n",
        "W2_New.append(layer2_bias)\n",
        "\n",
        "W3_New.append(W_L3)\n",
        "W3_New.append(layer3_bias)\n",
        "\n",
        "W4_New.append(W_L4)\n",
        "W4_New.append(layer4_bias)\n",
        "\n",
        "W5_New.append(W_L5)\n",
        "W5_New.append(layer5_bias)"
      ],
      "execution_count": 0,
      "outputs": []
    },
    {
      "metadata": {
        "id": "UNUwPeGD_c-x",
        "colab_type": "code",
        "colab": {}
      },
      "cell_type": "code",
      "source": [
        "model.get_layer(index=1).set_weights(W1_New)\n",
        "model.get_layer(index=3).set_weights(W2_New)\n",
        "model.get_layer(index=4).set_weights(W3_New)\n",
        "model.get_layer(index=5).set_weights(W4_New)\n",
        "model.get_layer(index=6).set_weights(W5_New)"
      ],
      "execution_count": 0,
      "outputs": []
    },
    {
      "metadata": {
        "id": "KU7EXm6f_9cz",
        "colab_type": "code",
        "outputId": "07bde004-f492-4ea7-8123-deaa39090fde",
        "colab": {
          "base_uri": "https://localhost:8080/",
          "height": 52
        }
      },
      "cell_type": "code",
      "source": [
        "loss, acc = model.evaluate(x_test,y_test)\n",
        "test_accuracies.append(acc)\n",
        "\n",
        "print(\"Loss {}, Accuracy {}\".format(loss, acc))"
      ],
      "execution_count": 99,
      "outputs": [
        {
          "output_type": "stream",
          "text": [
            "10000/10000 [==============================] - 1s 127us/sample - loss: 0.1547 - accuracy: 0.9643\n",
            "Loss 0.15474563783109188, Accuracy 0.9642999768257141\n"
          ],
          "name": "stdout"
        }
      ]
    },
    {
      "metadata": {
        "id": "C9ocWI593YSa",
        "colab_type": "text"
      },
      "cell_type": "markdown",
      "source": [
        "## Compress weights with D = 50"
      ]
    },
    {
      "metadata": {
        "id": "znqDlY8t3a5z",
        "colab_type": "code",
        "colab": {}
      },
      "cell_type": "code",
      "source": [
        "D = 50\n",
        "W1_New , W2_New, W3_New, W4_New, W5_New = [] , [], [], [], []\n",
        "W_L1 = tf.matmul(u1[:,0:D], tf.matmul(tf.linalg.diag(s1)[0:D,0:D], v1[:,0:D], adjoint_b=True))\n",
        "W_L2 = tf.matmul(u2[:,0:D], tf.matmul(tf.linalg.diag(s2)[0:D,0:D], v2[:,0:D], adjoint_b=True))\n",
        "W_L3 = tf.matmul(u3[:,0:D], tf.matmul(tf.linalg.diag(s3)[0:D,0:D], v3[:,0:D], adjoint_b=True))\n",
        "W_L4 = tf.matmul(u4[:,0:D], tf.matmul(tf.linalg.diag(s4)[0:D,0:D], v4[:,0:D], adjoint_b=True))\n",
        "W_L5 = tf.matmul(u5[:,0:D], tf.matmul(tf.linalg.diag(s5)[0:D,0:D], v5[:,0:D], adjoint_b=True))"
      ],
      "execution_count": 0,
      "outputs": []
    },
    {
      "metadata": {
        "id": "GiluhSODA0GK",
        "colab_type": "code",
        "colab": {}
      },
      "cell_type": "code",
      "source": [
        "W1_New.append(W_L1)\n",
        "W1_New.append(layer1_bias)\n",
        "\n",
        "W2_New.append(W_L2)\n",
        "W2_New.append(layer2_bias)\n",
        "\n",
        "W3_New.append(W_L3)\n",
        "W3_New.append(layer3_bias)\n",
        "\n",
        "W4_New.append(W_L4)\n",
        "W4_New.append(layer4_bias)\n",
        "\n",
        "W5_New.append(W_L5)\n",
        "W5_New.append(layer5_bias)"
      ],
      "execution_count": 0,
      "outputs": []
    },
    {
      "metadata": {
        "id": "i0RHa-oGA0I3",
        "colab_type": "code",
        "colab": {}
      },
      "cell_type": "code",
      "source": [
        "model.get_layer(index=1).set_weights(W1_New)\n",
        "model.get_layer(index=3).set_weights(W2_New)\n",
        "model.get_layer(index=4).set_weights(W3_New)\n",
        "model.get_layer(index=5).set_weights(W4_New)\n",
        "model.get_layer(index=6).set_weights(W5_New)"
      ],
      "execution_count": 0,
      "outputs": []
    },
    {
      "metadata": {
        "id": "tGbuj44AA0Lf",
        "colab_type": "code",
        "outputId": "1a8b1171-0bce-49b1-d0ca-c99f9c075ce6",
        "colab": {
          "base_uri": "https://localhost:8080/",
          "height": 52
        }
      },
      "cell_type": "code",
      "source": [
        "loss, acc = model.evaluate(x_test,y_test)\n",
        "test_accuracies.append(acc)\n",
        "print(\"Loss {}, Accuracy {}\".format(loss, acc))"
      ],
      "execution_count": 103,
      "outputs": [
        {
          "output_type": "stream",
          "text": [
            "10000/10000 [==============================] - 1s 125us/sample - loss: 0.1016 - accuracy: 0.9755\n",
            "Loss 0.10159684086467605, Accuracy 0.9754999876022339\n"
          ],
          "name": "stdout"
        }
      ]
    },
    {
      "metadata": {
        "id": "4DluzkFX3iqK",
        "colab_type": "text"
      },
      "cell_type": "markdown",
      "source": [
        "## Compress weights with D = 100"
      ]
    },
    {
      "metadata": {
        "id": "rHW5TXOT3kki",
        "colab_type": "code",
        "colab": {}
      },
      "cell_type": "code",
      "source": [
        "D = 100\n",
        "\n",
        "W1_New , W2_New, W3_New, W4_New, W5_New = [] , [], [], [], []\n",
        "W_L1 = tf.matmul(u1[:,0:D], tf.matmul(tf.linalg.diag(s1)[0:D,0:D], v1[:,0:D], adjoint_b=True))\n",
        "W_L2 = tf.matmul(u2[:,0:D], tf.matmul(tf.linalg.diag(s2)[0:D,0:D], v2[:,0:D], adjoint_b=True))\n",
        "W_L3 = tf.matmul(u3[:,0:D], tf.matmul(tf.linalg.diag(s3)[0:D,0:D], v3[:,0:D], adjoint_b=True))\n",
        "W_L4 = tf.matmul(u4[:,0:D], tf.matmul(tf.linalg.diag(s4)[0:D,0:D], v4[:,0:D], adjoint_b=True))\n",
        "W_L5 = tf.matmul(u5[:,0:D], tf.matmul(tf.linalg.diag(s5)[0:D,0:D], v5[:,0:D], adjoint_b=True))"
      ],
      "execution_count": 0,
      "outputs": []
    },
    {
      "metadata": {
        "id": "Iv-icoF6BeSL",
        "colab_type": "code",
        "colab": {}
      },
      "cell_type": "code",
      "source": [
        "W1_New.append(W_L1)\n",
        "W1_New.append(layer1_bias)\n",
        "\n",
        "W2_New.append(W_L2)\n",
        "W2_New.append(layer2_bias)\n",
        "\n",
        "W3_New.append(W_L3)\n",
        "W3_New.append(layer3_bias)\n",
        "\n",
        "W4_New.append(W_L4)\n",
        "W4_New.append(layer4_bias)\n",
        "\n",
        "W5_New.append(W_L5)\n",
        "W5_New.append(layer5_bias)"
      ],
      "execution_count": 0,
      "outputs": []
    },
    {
      "metadata": {
        "id": "6pprqy5GBeUg",
        "colab_type": "code",
        "colab": {}
      },
      "cell_type": "code",
      "source": [
        "model.get_layer(index=1).set_weights(W1_New)\n",
        "model.get_layer(index=3).set_weights(W2_New)\n",
        "model.get_layer(index=4).set_weights(W3_New)\n",
        "model.get_layer(index=5).set_weights(W4_New)\n",
        "model.get_layer(index=6).set_weights(W5_New)"
      ],
      "execution_count": 0,
      "outputs": []
    },
    {
      "metadata": {
        "id": "rN-j2bq3Bh_G",
        "colab_type": "code",
        "outputId": "d021792a-9ed6-499f-acd7-b01f13cae47e",
        "colab": {
          "base_uri": "https://localhost:8080/",
          "height": 34
        }
      },
      "cell_type": "code",
      "source": [
        "loss, acc = model.evaluate(x_test,y_test)\n",
        "test_accuracies.append(acc)"
      ],
      "execution_count": 107,
      "outputs": [
        {
          "output_type": "stream",
          "text": [
            "10000/10000 [==============================] - 1s 125us/sample - loss: 0.1033 - accuracy: 0.9758\n"
          ],
          "name": "stdout"
        }
      ]
    },
    {
      "metadata": {
        "id": "XMUqUh4q3rUU",
        "colab_type": "text"
      },
      "cell_type": "markdown",
      "source": [
        "## Compress weights with D = 200"
      ]
    },
    {
      "metadata": {
        "id": "KoLT0aZu3uPI",
        "colab_type": "code",
        "colab": {}
      },
      "cell_type": "code",
      "source": [
        "D = 200\n",
        "\n",
        "W1_New , W2_New, W3_New, W4_New, W5_New = [] , [], [], [], []\n",
        "W_L1 = tf.matmul(u1[:,0:D], tf.matmul(tf.linalg.diag(s1)[0:D,0:D], v1[:,0:D], adjoint_b=True))\n",
        "W_L2 = tf.matmul(u2[:,0:D], tf.matmul(tf.linalg.diag(s2)[0:D,0:D], v2[:,0:D], adjoint_b=True))\n",
        "W_L3 = tf.matmul(u3[:,0:D], tf.matmul(tf.linalg.diag(s3)[0:D,0:D], v3[:,0:D], adjoint_b=True))\n",
        "W_L4 = tf.matmul(u4[:,0:D], tf.matmul(tf.linalg.diag(s4)[0:D,0:D], v4[:,0:D], adjoint_b=True))\n",
        "W_L5 = tf.matmul(u5[:,0:D], tf.matmul(tf.linalg.diag(s5)[0:D,0:D], v5[:,0:D], adjoint_b=True))"
      ],
      "execution_count": 0,
      "outputs": []
    },
    {
      "metadata": {
        "id": "zzkjN3J_BtZI",
        "colab_type": "code",
        "colab": {}
      },
      "cell_type": "code",
      "source": [
        "W1_New.append(W_L1)\n",
        "W1_New.append(layer1_bias)\n",
        "\n",
        "W2_New.append(W_L2)\n",
        "W2_New.append(layer2_bias)\n",
        "\n",
        "W3_New.append(W_L3)\n",
        "W3_New.append(layer3_bias)\n",
        "\n",
        "W4_New.append(W_L4)\n",
        "W4_New.append(layer4_bias)\n",
        "\n",
        "W5_New.append(W_L5)\n",
        "W5_New.append(layer5_bias)"
      ],
      "execution_count": 0,
      "outputs": []
    },
    {
      "metadata": {
        "id": "hcNnI7UcBtb5",
        "colab_type": "code",
        "colab": {}
      },
      "cell_type": "code",
      "source": [
        "model.get_layer(index=1).set_weights(W1_New)\n",
        "model.get_layer(index=3).set_weights(W2_New)\n",
        "model.get_layer(index=4).set_weights(W3_New)\n",
        "model.get_layer(index=5).set_weights(W4_New)\n",
        "model.get_layer(index=6).set_weights(W5_New)"
      ],
      "execution_count": 0,
      "outputs": []
    },
    {
      "metadata": {
        "id": "4ri4SuXiBteb",
        "colab_type": "code",
        "outputId": "0d31e224-f0b2-4c89-a765-96281e3f1d63",
        "colab": {
          "base_uri": "https://localhost:8080/",
          "height": 34
        }
      },
      "cell_type": "code",
      "source": [
        "loss, acc = model.evaluate(x_test,y_test)\n",
        "test_accuracies.append(acc)"
      ],
      "execution_count": 111,
      "outputs": [
        {
          "output_type": "stream",
          "text": [
            "10000/10000 [==============================] - 1s 129us/sample - loss: 0.1075 - accuracy: 0.9751\n"
          ],
          "name": "stdout"
        }
      ]
    },
    {
      "metadata": {
        "id": "7HVWECRH33qL",
        "colab_type": "text"
      },
      "cell_type": "markdown",
      "source": [
        "## Compress weights with D = 784"
      ]
    },
    {
      "metadata": {
        "id": "n0eJ8rt-36P3",
        "colab_type": "code",
        "colab": {}
      },
      "cell_type": "code",
      "source": [
        "D = 784\n",
        "\n",
        "W1_New , W2_New, W3_New, W4_New, W5_New = [] , [], [], [], []\n",
        "W_L1 = tf.matmul(u1, tf.matmul(tf.linalg.diag(s1), v1, adjoint_b=True))\n",
        "W_L2 = tf.matmul(u2, tf.matmul(tf.linalg.diag(s2), v2, adjoint_b=True))\n",
        "W_L3 = tf.matmul(u3, tf.matmul(tf.linalg.diag(s3), v3, adjoint_b=True))\n",
        "W_L4 = tf.matmul(u4, tf.matmul(tf.linalg.diag(s4), v4, adjoint_b=True))\n",
        "W_L5 = tf.matmul(u5, tf.matmul(tf.linalg.diag(s5), v5, adjoint_b=True))"
      ],
      "execution_count": 0,
      "outputs": []
    },
    {
      "metadata": {
        "id": "RztLT7eJ47lm",
        "colab_type": "code",
        "colab": {}
      },
      "cell_type": "code",
      "source": [
        "W1_New.append(W_L1)\n",
        "W1_New.append(layer1_bias)\n",
        "\n",
        "W2_New.append(W_L2)\n",
        "W2_New.append(layer2_bias)\n",
        "\n",
        "W3_New.append(W_L3)\n",
        "W3_New.append(layer3_bias)\n",
        "\n",
        "W4_New.append(W_L4)\n",
        "W4_New.append(layer4_bias)\n",
        "\n",
        "W5_New.append(W_L5)\n",
        "W5_New.append(layer5_bias)"
      ],
      "execution_count": 0,
      "outputs": []
    },
    {
      "metadata": {
        "id": "MSnQx3_qja71",
        "colab_type": "code",
        "colab": {}
      },
      "cell_type": "code",
      "source": [
        "model.get_layer(index=1).set_weights(W1_New)\n",
        "model.get_layer(index=3).set_weights(W2_New)\n",
        "model.get_layer(index=4).set_weights(W3_New)\n",
        "model.get_layer(index=5).set_weights(W4_New)\n",
        "model.get_layer(index=6).set_weights(W5_New)"
      ],
      "execution_count": 0,
      "outputs": []
    },
    {
      "metadata": {
        "id": "crdokDtkjcDW",
        "colab_type": "code",
        "outputId": "f4b65b2e-9ea2-4d85-d3a7-8e14a9bd56e7",
        "colab": {
          "base_uri": "https://localhost:8080/",
          "height": 34
        }
      },
      "cell_type": "code",
      "source": [
        "loss, acc = model.evaluate(x_test,y_test)\n",
        "test_accuracies.append(acc)"
      ],
      "execution_count": 115,
      "outputs": [
        {
          "output_type": "stream",
          "text": [
            "10000/10000 [==============================] - 1s 125us/sample - loss: 0.1161 - accuracy: 0.9748\n"
          ],
          "name": "stdout"
        }
      ]
    },
    {
      "metadata": {
        "id": "r2uAtizCr5N_",
        "colab_type": "code",
        "colab": {
          "base_uri": "https://localhost:8080/",
          "height": 34
        },
        "outputId": "a92c94ef-b96e-4226-f472-02bb139799eb"
      },
      "cell_type": "code",
      "source": [
        "test_accuracies"
      ],
      "execution_count": 116,
      "outputs": [
        {
          "output_type": "execute_result",
          "data": {
            "text/plain": [
              "[0.8092, 0.9643, 0.9755, 0.9758, 0.9751, 0.9748]"
            ]
          },
          "metadata": {
            "tags": []
          },
          "execution_count": 116
        }
      ]
    },
    {
      "metadata": {
        "id": "02r7dFHCHTzM",
        "colab_type": "code",
        "outputId": "69b8699e-abf5-477e-ff07-91b6c8db0c96",
        "colab": {
          "base_uri": "https://localhost:8080/",
          "height": 361
        }
      },
      "cell_type": "code",
      "source": [
        "plt.plot(D_Values,test_accuracies)\n",
        "plt.ylabel('Test Accuracy')\n",
        "plt.xlabel('D Values')\n",
        "plt.show()"
      ],
      "execution_count": 117,
      "outputs": [
        {
          "output_type": "display_data",
          "data": {
            "image/png": "[encoded data removed]",
            "text/plain": [
              "<Figure size 576x396 with 1 Axes>"
            ]
          },
          "metadata": {
            "tags": []
          }
        }
      ]
    },
    {
      "metadata": {
        "id": "ltMVlBz8p160",
        "colab_type": "text"
      },
      "cell_type": "markdown",
      "source": [
        "## Imrove performance for D = 20"
      ]
    },
    {
      "metadata": {
        "id": "TNWwo_g5oQup",
        "colab_type": "code",
        "colab": {}
      },
      "cell_type": "code",
      "source": [
        "D = 20\n",
        "W1_D20 , W2_D20, W3_D20, W4_D20, W5_D20 = [] , [], [], [], []\n",
        "\n",
        "V1 = tf.matmul(tf.linalg.diag(s1)[0:D,0:D],tf.transpose(v1[:,0:D]))\n",
        "U1 = u1[:,0:D]\n",
        "W1_Trainable = tf.matmul(U1,V1)\n",
        "W1_D20.append(W1_Trainable)\n",
        "W1_D20.append(layer1_bias)\n",
        "\n",
        "V2 = tf.matmul(tf.linalg.diag(s2)[0:D,0:D],tf.transpose(v2[:,0:D]))\n",
        "U2 = u2[:,0:D]\n",
        "W2_Trainable = tf.matmul(U2,V2)\n",
        "W2_D20.append(W2_Trainable)\n",
        "W2_D20.append(layer2_bias)\n",
        "\n",
        "V3 = tf.matmul(tf.linalg.diag(s3)[0:D,0:D],tf.transpose(v3[:,0:D]))\n",
        "U3 = u3[:,0:D]\n",
        "W3_Trainable = tf.matmul(U3,V3)\n",
        "W3_D20.append(W3_Trainable)\n",
        "W3_D20.append(layer3_bias)\n",
        "\n",
        "\n",
        "V4 = tf.matmul(tf.linalg.diag(s4)[0:D,0:D],tf.transpose(v4[:,0:D]))\n",
        "U4 = u4[:,0:D]\n",
        "W4_Trainable = tf.matmul(U4,V4)\n",
        "W4_D20.append(W4_Trainable)\n",
        "W4_D20.append(layer4_bias)\n",
        "\n",
        "V5 = tf.matmul(tf.linalg.diag(s5)[0:D,0:D],tf.transpose(v5[:,0:D]))\n",
        "U5 = u5[:,0:D]\n",
        "W5_Trainable = tf.matmul(U5,V5)\n",
        "W5_D20.append(W5_Trainable)\n",
        "W5_D20.append(layer5_bias)"
      ],
      "execution_count": 0,
      "outputs": []
    },
    {
      "metadata": {
        "id": "_1LMOSFEt-A1",
        "colab_type": "code",
        "colab": {
          "base_uri": "https://localhost:8080/",
          "height": 260
        },
        "outputId": "924f8b7b-588f-4f5a-f01e-6b9718267e38"
      },
      "cell_type": "code",
      "source": [
        "W1_Trainable"
      ],
      "execution_count": 125,
      "outputs": [
        {
          "output_type": "execute_result",
          "data": {
            "text/plain": [
              "<tf.Tensor: id=203461, shape=(784, 1024), dtype=float32, numpy=\n",
              "array([[ 0.00859985, -0.00434499, -0.00132128, ...,  0.00423206,\n",
              "         0.01004207,  0.01050401],\n",
              "       [-0.00403642, -0.00027502,  0.0004445 , ...,  0.00448619,\n",
              "        -0.00123648,  0.01394461],\n",
              "       [ 0.00542708, -0.00310671, -0.00078038, ...,  0.00043396,\n",
              "        -0.00131999,  0.00311533],\n",
              "       ...,\n",
              "       [-0.00126823, -0.00668354, -0.00016347, ..., -0.00205266,\n",
              "         0.00531259,  0.00360392],\n",
              "       [-0.00807532, -0.00025974,  0.00152482, ..., -0.00588872,\n",
              "        -0.00271425, -0.0012351 ],\n",
              "       [ 0.00181974,  0.00251518, -0.00038019, ...,  0.00083853,\n",
              "         0.00549115,  0.00296747]], dtype=float32)>"
            ]
          },
          "metadata": {
            "tags": []
          },
          "execution_count": 125
        }
      ]
    },
    {
      "metadata": {
        "id": "zDCL5ljqsQzL",
        "colab_type": "code",
        "colab": {}
      },
      "cell_type": "code",
      "source": [
        "model.get_layer(index=1).set_weights(W1_D20)\n",
        "model.get_layer(index=3).set_weights(W2_D20)\n",
        "model.get_layer(index=4).set_weights(W3_D20)\n",
        "model.get_layer(index=5).set_weights(W4_D20)\n",
        "model.get_layer(index=6).set_weights(W5_D20)\n",
        "\n",
        "model.compile(optimizer='adam',\n",
        "              loss='sparse_categorical_crossentropy',\n",
        "              metrics=['accuracy'])"
      ],
      "execution_count": 0,
      "outputs": []
    },
    {
      "metadata": {
        "id": "dGdTOnrWsRwp",
        "colab_type": "code",
        "colab": {
          "base_uri": "https://localhost:8080/",
          "height": 225
        },
        "outputId": "a9514885-b7eb-4c36-dd17-9aa745b5c609"
      },
      "cell_type": "code",
      "source": [
        "model.fit(x_train, y_train, epochs=5)\n",
        "\n",
        "loss, acc = model.evaluate(x_test,y_test)\n",
        "\n",
        "print(\"Loss {}, Accuracy {}\".format(loss, acc))"
      ],
      "execution_count": 130,
      "outputs": [
        {
          "output_type": "stream",
          "text": [
            "Epoch 1/5\n",
            "60000/60000 [==============================] - 21s 347us/sample - loss: 0.1159 - accuracy: 0.9697\n",
            "Epoch 2/5\n",
            "60000/60000 [==============================] - 21s 343us/sample - loss: 0.0745 - accuracy: 0.9790\n",
            "Epoch 3/5\n",
            "60000/60000 [==============================] - 21s 344us/sample - loss: 0.0639 - accuracy: 0.9819\n",
            "Epoch 4/5\n",
            "60000/60000 [==============================] - 21s 344us/sample - loss: 0.0540 - accuracy: 0.9850\n",
            "Epoch 5/5\n",
            "60000/60000 [==============================] - 21s 342us/sample - loss: 0.0433 - accuracy: 0.9880\n",
            "10000/10000 [==============================] - 1s 131us/sample - loss: 0.0983 - accuracy: 0.9788\n",
            "Loss 0.09834555679983459, Accuracy 0.9787999987602234\n"
          ],
          "name": "stdout"
        }
      ]
    },
    {
      "metadata": {
        "id": "H0Ia6dRux1UT",
        "colab_type": "code",
        "colab": {}
      },
      "cell_type": "code",
      "source": [
        ""
      ],
      "execution_count": 0,
      "outputs": []
    }
  ]
}